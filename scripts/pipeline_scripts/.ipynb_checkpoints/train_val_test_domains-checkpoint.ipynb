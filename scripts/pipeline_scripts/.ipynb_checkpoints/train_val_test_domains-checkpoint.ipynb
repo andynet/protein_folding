{
 "cells": [
  {
   "cell_type": "code",
   "execution_count": 2,
   "metadata": {},
   "outputs": [],
   "source": [
    "import os\n",
    "import numpy as np\n",
    "import matplotlib.pyplot as plt"
   ]
  },
  {
   "cell_type": "code",
   "execution_count": 3,
   "metadata": {},
   "outputs": [],
   "source": [
    "# Constants\n",
    "TEST_SET_SIZE = 500\n",
    "VALIDATION_SET_SIZE = 1000\n",
    "HOMOLOGOUS_SUPERFAMILY_CUTOFF = 500\n",
    "MAX_FAMILY_SIZE = 100"
   ]
  },
  {
   "cell_type": "markdown",
   "metadata": {},
   "source": [
    "### 1. Open CATH list file"
   ]
  },
  {
   "cell_type": "code",
   "execution_count": 4,
   "metadata": {},
   "outputs": [],
   "source": [
    "with open('../../data/our_input/cath-domain-list-S35.txt') as f:\n",
    "    raw = f.readlines()"
   ]
  },
  {
   "cell_type": "markdown",
   "metadata": {},
   "source": [
    "### 2. Extract domain lengths from files that we generated (see `distance_maps_and_sequences.py`)"
   ]
  },
  {
   "cell_type": "markdown",
   "metadata": {},
   "source": [
    "I was not able to generate secondary structures and torsion angles for all domains. About 200 gave some problems. So I am going to use the domains for which we have the secondary structure"
   ]
  },
  {
   "cell_type": "code",
   "execution_count": 5,
   "metadata": {},
   "outputs": [],
   "source": [
    "generated_domain_lengths = {}\n",
    "for i in os.listdir('../../data/our_input/secondary/'):\n",
    "    with open(f'../../data/our_input/secondary/{i}') as f:\n",
    "        generated_domain_lengths[i.split('.')[0]] = len(f.readline())"
   ]
  },
  {
   "cell_type": "markdown",
   "metadata": {},
   "source": [
    "Also for some domains we had trouble generating the input data. So we need to take an intersection of these two"
   ]
  },
  {
   "cell_type": "code",
   "execution_count": 6,
   "metadata": {},
   "outputs": [],
   "source": [
    "# open generated tensors\n",
    "generated_tensors = np.array([i.split('_')[0] for i in os.listdir('../../data/our_input/tensors')])"
   ]
  },
  {
   "cell_type": "code",
   "execution_count": 10,
   "metadata": {},
   "outputs": [
    {
     "data": {
      "text/plain": [
       "array(['2qr6A01', '3r4yA01'], dtype='<U7')"
      ]
     },
     "execution_count": 10,
     "metadata": {},
     "output_type": "execute_result"
    }
   ],
   "source": [
    "np.setdiff1d(list(generated_domain_lengths.keys()), generated_tensors)"
   ]
  },
  {
   "cell_type": "code",
   "execution_count": 11,
   "metadata": {},
   "outputs": [
    {
     "data": {
      "text/plain": [
       "19674"
      ]
     },
     "execution_count": 11,
     "metadata": {},
     "output_type": "execute_result"
    }
   ],
   "source": [
    "len(generated_domain_lengths)"
   ]
  },
  {
   "cell_type": "code",
   "execution_count": 15,
   "metadata": {},
   "outputs": [],
   "source": [
    "del generated_domain_lengths['3r4yA01'], generated_domain_lengths['2qr6A01']"
   ]
  },
  {
   "cell_type": "code",
   "execution_count": 16,
   "metadata": {},
   "outputs": [
    {
     "data": {
      "text/plain": [
       "19672"
      ]
     },
     "execution_count": 16,
     "metadata": {},
     "output_type": "execute_result"
    }
   ],
   "source": [
    "len(generated_domain_lengths)"
   ]
  },
  {
   "cell_type": "markdown",
   "metadata": {},
   "source": [
    "### 3. Extract Domain name, Class, Architecture, Topology, Homologous superfamily\n",
    "\n",
    "Column 1:  CATH domain name (seven characters)\\\n",
    "Column 2:  Class number\\\n",
    "Column 3:  Architecture number\\\n",
    "Column 4:  Topology number\\\n",
    "Column 5:  Homologous superfamily number\\\n",
    "Column 6:  S35 sequence cluster number\\\n",
    "Column 7:  S60 sequence cluster number\\\n",
    "Column 8:  S95 sequence cluster number\\\n",
    "Column 9:  S100 sequence cluster number\\\n",
    "Column 10: S100 sequence count number\\\n",
    "Column 11: Domain length\\\n",
    "Column 12: Structure resolution (Angstroms)\\"
   ]
  },
  {
   "cell_type": "code",
   "execution_count": 20,
   "metadata": {},
   "outputs": [],
   "source": [
    "cath_domains = []\n",
    "for line in raw:\n",
    "    cath_domains.append(line.split()[0])"
   ]
  },
  {
   "cell_type": "code",
   "execution_count": 21,
   "metadata": {},
   "outputs": [],
   "source": [
    "for d in generated_domain_lengths:\n",
    "    if d not in cath_domains:\n",
    "        print(d)"
   ]
  },
  {
   "cell_type": "code",
   "execution_count": 22,
   "metadata": {},
   "outputs": [],
   "source": [
    "cath_domains = []\n",
    "cath_data = np.empty((len(generated_domain_lengths), 5), dtype=np.int)\n",
    "ind = 0\n",
    "for i in range(len(raw)):\n",
    "    line = raw[i].strip().split()\n",
    "    if line[0] in list(generated_domain_lengths.keys()):\n",
    "        cath_domains.append(line[0])\n",
    "        cath_data[ind, 1:] = [int(line[j]) for j in [1, 2, 3, 4]]\n",
    "        cath_data[ind, 0] = ind\n",
    "        ind += 1\n",
    "\n",
    "cath_domains = np.array(cath_domains)\n",
    "#del line, i, raw, f"
   ]
  },
  {
   "cell_type": "code",
   "execution_count": 23,
   "metadata": {},
   "outputs": [
    {
     "data": {
      "text/plain": [
       "array([[    0,     1,    10,     8,    10],\n",
       "       [    1,     1,    10,     8,    10],\n",
       "       [    2,     1,    10,     8,    10],\n",
       "       ...,\n",
       "       [19669,     4,    10,  1290,    10],\n",
       "       [19670,     4,    10,  1300,    10],\n",
       "       [19671,     4,    10,  1330,    10]])"
      ]
     },
     "execution_count": 23,
     "metadata": {},
     "output_type": "execute_result"
    }
   ],
   "source": [
    "cath_data"
   ]
  },
  {
   "cell_type": "markdown",
   "metadata": {},
   "source": [
    "### 4. Visualize"
   ]
  },
  {
   "cell_type": "markdown",
   "metadata": {},
   "source": [
    "#### 4.1 domain Length Distribution"
   ]
  },
  {
   "cell_type": "code",
   "execution_count": 24,
   "metadata": {},
   "outputs": [
    {
     "data": {
      "image/png": "[encoded data removed]",
      "text/plain": [
       "<Figure size 432x288 with 1 Axes>"
      ]
     },
     "metadata": {
      "needs_background": "light"
     },
     "output_type": "display_data"
    }
   ],
   "source": [
    "plt.hist(generated_domain_lengths.values(), bins=100)\n",
    "plt.title('Domain length distribution - Entire dataset (19953 domains)')\n",
    "plt.xlabel('Domain Length')\n",
    "plt.ylabel('Count')\n",
    "plt.savefig('../../plots/domain_length_distribution_all.png', dpi=200);"
   ]
  },
  {
   "cell_type": "markdown",
   "metadata": {},
   "source": [
    "### Segmentation based on Homologous superfamily\n",
    "\n",
    "Following the instruction given in the AlphaFold paper, we want to ensure that all domains from a certain homologous superfamily are included in either Training, Validation or Test data set."
   ]
  },
  {
   "cell_type": "code",
   "execution_count": 25,
   "metadata": {},
   "outputs": [],
   "source": [
    "def make_barh(arr, ax, label, title='', fontsize=15, ticks=False, xlim=20000):\n",
    "    vals, counts = np.unique(arr, return_counts=True)\n",
    "\n",
    "    valscounts = np.array([vals, counts], dtype=np.int).T\n",
    "    valscounts = valscounts[valscounts[:,1].argsort()][::-1] # sort by counts\n",
    "    \n",
    "    ax.barh(label, valscounts[0, 1])\n",
    "    h = valscounts[0, 1]\n",
    "\n",
    "    for i in range(1, len(vals)):\n",
    "        ax.barh(label, valscounts[i, 1], left=h)\n",
    "        h += valscounts[i, 1]\n",
    "\n",
    "    ax.tick_params(axis='both', which='major', labelsize=fontsize)\n",
    "    if ticks == False:\n",
    "        ax.set_xticks([])\n",
    "    ax.set_title(title, fontsize=15)\n",
    "    ax.set_xlim(0, xlim)"
   ]
  },
  {
   "cell_type": "code",
   "execution_count": 26,
   "metadata": {},
   "outputs": [
    {
     "data": {
      "image/png": "[encoded data removed]",
      "text/plain": [
       "<Figure size 1080x576 with 4 Axes>"
      ]
     },
     "metadata": {
      "needs_background": "light"
     },
     "output_type": "display_data"
    }
   ],
   "source": [
    "fig, ax = plt.subplots(4, 1, figsize=(15, 8))\n",
    "for i, ch in enumerate(['C', 'A', 'T']):\n",
    "    make_barh(cath_data[:, i+1], ax[i], ch, '', 15)\n",
    "make_barh(cath_data[:, 4], ax[3], 'H', '', 15, True)\n",
    "plt.tight_layout()\n",
    "plt.savefig('../../plots/cath_distributions.png', dpi=200)"
   ]
  },
  {
   "cell_type": "markdown",
   "metadata": {},
   "source": [
    "## Generate Train, Test and Validation Sets\n",
    "\n",
    "#### 1. Filter Homologous Superfamilies with more than `HOMOLOGOUS_SUPERFAMILY_CUTOFF` members. If this condition is satisfied then randomly pick that number of domains from that particular superfamily"
   ]
  },
  {
   "cell_type": "code",
   "execution_count": 31,
   "metadata": {},
   "outputs": [],
   "source": [
    "homologous_superfamilies, counts = np.unique(cath_data[:, 4], return_counts=True)"
   ]
  },
  {
   "cell_type": "code",
   "execution_count": 32,
   "metadata": {},
   "outputs": [],
   "source": [
    "np.random.seed(1618)\n",
    "indices_to_delete = []\n",
    "\n",
    "for HS_ID in homologous_superfamilies[np.where(counts > HOMOLOGOUS_SUPERFAMILY_CUTOFF)[0]]:\n",
    "    \n",
    "    HS_ind = cath_data[cath_data[:, 4] == HS_ID][:, 0]\n",
    "    \n",
    "    pick_indices_to_delete = np.random.choice(HS_ind, HS_ind.shape[0] - HOMOLOGOUS_SUPERFAMILY_CUTOFF, replace=False)\n",
    "    \n",
    "    indices_to_delete.extend(list(pick_indices_to_delete))"
   ]
  },
  {
   "cell_type": "code",
   "execution_count": 33,
   "metadata": {},
   "outputs": [],
   "source": [
    "cath_data_filtered = cath_data[np.setdiff1d(cath_data[:, 0], indices_to_delete)]"
   ]
  },
  {
   "cell_type": "code",
   "execution_count": 34,
   "metadata": {},
   "outputs": [
    {
     "data": {
      "image/png": "[encoded data removed]",
      "text/plain": [
       "<Figure size 1080x576 with 4 Axes>"
      ]
     },
     "metadata": {
      "needs_background": "light"
     },
     "output_type": "display_data"
    }
   ],
   "source": [
    "fig, ax = plt.subplots(4, 1, figsize=(15, 8))\n",
    "for i, ch in enumerate(['C', 'A', 'T']):\n",
    "    make_barh(cath_data_filtered[:, i+1], ax[i], ch, '', 15, xlim=11020)\n",
    "make_barh(cath_data_filtered[:, 4], ax[3], 'H', '', 15, True, xlim=11020)\n",
    "plt.tight_layout()\n",
    "plt.savefig('../../plots/cath_distributions_filtered.png', dpi=200)"
   ]
  },
  {
   "cell_type": "markdown",
   "metadata": {},
   "source": [
    "#### 2. Create Train, Val and Test set, while keeping in mind that all members of one superfamily have to be inside on of the sets"
   ]
  },
  {
   "cell_type": "code",
   "execution_count": 35,
   "metadata": {},
   "outputs": [],
   "source": [
    "homologous_superfamilies, counts = np.unique(cath_data_filtered[:, 4], return_counts=True)"
   ]
  },
  {
   "cell_type": "markdown",
   "metadata": {},
   "source": [
    "##### 2.1 Pick families"
   ]
  },
  {
   "cell_type": "code",
   "execution_count": 36,
   "metadata": {},
   "outputs": [],
   "source": [
    "np.random.seed(1618)\n",
    "\n",
    "length = 0\n",
    "families = []\n",
    "\n",
    "# TEST\n",
    "test_families = []\n",
    "\n",
    "while length != TEST_SET_SIZE:\n",
    "    \n",
    "    ind = np.random.randint(len(counts))\n",
    "    family, familysize = homologous_superfamilies[ind], counts[ind]\n",
    "    \n",
    "    if familysize < MAX_FAMILY_SIZE:\n",
    "        if length + familysize <= TEST_SET_SIZE and family not in families:\n",
    "            length += familysize\n",
    "            families.append(family)\n",
    "            test_families.append(family)\n",
    "\n",
    "\n",
    "length = 0\n",
    "\n",
    "# VALIDATION\n",
    "validation_families = []\n",
    "\n",
    "while length != VALIDATION_SET_SIZE:\n",
    "    \n",
    "    ind = np.random.randint(len(counts))\n",
    "    family, familysize = homologous_superfamilies[ind], counts[ind]\n",
    "    \n",
    "    if familysize < MAX_FAMILY_SIZE:\n",
    "        if length + familysize <= VALIDATION_SET_SIZE and family not in families:\n",
    "            length += familysize\n",
    "            families.append(family)\n",
    "            validation_families.append(family)"
   ]
  },
  {
   "cell_type": "markdown",
   "metadata": {},
   "source": [
    "##### 2.2 Create datasets"
   ]
  },
  {
   "cell_type": "code",
   "execution_count": 37,
   "metadata": {},
   "outputs": [],
   "source": [
    "# TEST\n",
    "test_data = cath_data_filtered[cath_data_filtered[:, 4] == test_families[0]]\n",
    "for i in range(1, len(test_families)):\n",
    "    test_data = np.concatenate((test_data, cath_data_filtered[cath_data_filtered[:, 4] == test_families[i]]))\n",
    "    \n",
    "# VALIDATION\n",
    "validation_data = cath_data_filtered[cath_data_filtered[:, 4] == validation_families[0]]\n",
    "for i in range(1, len(validation_families)):\n",
    "    validation_data = np.concatenate((validation_data, cath_data_filtered[cath_data_filtered[:, 4] == validation_families[i]]))\n",
    "    \n",
    "# TRAIN\n",
    "train_indices = np.setdiff1d(cath_data_filtered[:, 0], np.concatenate((test_data[:, 0], validation_data[:, 0])))\n",
    "train_data = cath_data_filtered[[cath_data_filtered[i, 0] in train_indices for i in range(cath_data_filtered.shape[0])]]"
   ]
  },
  {
   "cell_type": "markdown",
   "metadata": {},
   "source": [
    "**SANITY CHECK**"
   ]
  },
  {
   "cell_type": "code",
   "execution_count": 38,
   "metadata": {},
   "outputs": [
    {
     "name": "stdout",
     "output_type": "stream",
     "text": [
      "True\n",
      "True\n",
      "True\n",
      "True\n",
      "True\n",
      "True\n"
     ]
    }
   ],
   "source": [
    "print(np.setdiff1d(test_data[:, 0], validation_data[:, 0]).shape[0] == test_data.shape[0])\n",
    "print(np.setdiff1d(test_data[:, 0], train_data[:, 0]).shape[0] == test_data.shape[0])\n",
    "\n",
    "print(np.setdiff1d(validation_data[:, 0], test_data[:, 0]).shape[0] == validation_data.shape[0])\n",
    "print(np.setdiff1d(validation_data[:, 0], test_data[:, 0]).shape[0] == validation_data.shape[0])\n",
    "\n",
    "print(np.setdiff1d(train_data[:, 0], validation_data[:, 0]).shape[0] == train_data.shape[0])\n",
    "print(np.setdiff1d(train_data[:, 0], test_data[:, 0]).shape[0] == train_data.shape[0])"
   ]
  },
  {
   "cell_type": "code",
   "execution_count": 39,
   "metadata": {},
   "outputs": [
    {
     "data": {
      "image/png": "[encoded data removed]",
      "text/plain": [
       "<Figure size 1080x453.6 with 3 Axes>"
      ]
     },
     "metadata": {
      "needs_background": "light"
     },
     "output_type": "display_data"
    }
   ],
   "source": [
    "fig, ax = plt.subplots(3, 1, figsize=(15, 6.3))\n",
    "make_barh(train_data[:, 4], ax[0], 'Train', '', 15, True, xlim=None)\n",
    "make_barh(validation_data[:, 4], ax[1], 'Validation', '', 15, True, xlim=None)\n",
    "make_barh(test_data[:, 4], ax[2], 'Test', '', 15, True, xlim=None)\n",
    "plt.tight_layout()\n",
    "plt.savefig('../../plots/cath_distributions_trainvaltest.png', dpi=200)"
   ]
  },
  {
   "cell_type": "code",
   "execution_count": 40,
   "metadata": {},
   "outputs": [],
   "source": [
    "# Test Domains\n",
    "test_domains = cath_domains[test_data[:, 0]]\n",
    "with open('../../data/our_input/test_domains.csv', 'w') as f:\n",
    "    for i in test_domains:\n",
    "        f.write(i + '\\n')\n",
    "        \n",
    "# Validation Domains\n",
    "validation_domains = cath_domains[validation_data[:, 0]]\n",
    "with open('../../data/our_input/validation_domains.csv', 'w') as f:\n",
    "    for i in validation_domains:\n",
    "        f.write(i + '\\n')\n",
    "\n",
    "# Train Domains\n",
    "train_domains = cath_domains[train_data[:, 0]]\n",
    "with open('../../data/our_input/train_domains.csv', 'w') as f:\n",
    "    for i in train_domains:\n",
    "        f.write(i + '\\n')"
   ]
  },
  {
   "cell_type": "markdown",
   "metadata": {},
   "source": [
    "### Domain length Distributions"
   ]
  },
  {
   "cell_type": "code",
   "execution_count": 41,
   "metadata": {},
   "outputs": [
    {
     "data": {
      "image/png": "[encoded data removed]",
      "text/plain": [
       "<Figure size 864x288 with 3 Axes>"
      ]
     },
     "metadata": {
      "needs_background": "light"
     },
     "output_type": "display_data"
    }
   ],
   "source": [
    "fig, ax = plt.subplots(1, 3, figsize=(12, 4))\n",
    "titles = ['Train', 'Validation', 'Test']\n",
    "for i, domains in enumerate((train_domains, validation_domains, test_domains)):\n",
    "    lengths = []\n",
    "    for d in domains:\n",
    "        lengths.append(generated_domain_lengths[d])\n",
    "        \n",
    "    ax[i].hist(lengths, bins=100)\n",
    "    ax[i].set_title(titles[i])\n",
    "    ax[i].set_xlabel('Domain Length')\n",
    "    ax[i].set_ylabel('Count')\n",
    "\n",
    "plt.tight_layout()\n",
    "plt.savefig('../../plots/trainvaltest_domain_length_distributions.png', dpi=200)"
   ]
  },
  {
   "cell_type": "markdown",
   "metadata": {},
   "source": [
    "### Another Sanity Check\n",
    "\n",
    "Are all domains available in `tensors/` directory?"
   ]
  },
  {
   "cell_type": "code",
   "execution_count": 50,
   "metadata": {},
   "outputs": [
    {
     "name": "stdout",
     "output_type": "stream",
     "text": [
      "train domains are ok\n",
      "validation domains are ok\n",
      "test domains are ok\n"
     ]
    }
   ],
   "source": [
    "for i in ['train', 'validation', 'test']:\n",
    "    domains = np.loadtxt(f'../../data/our_input/{i}_domains.csv', delimiter=',', dtype='O')\n",
    "    if len(np.setdiff1d(domains, generated_tensors)) == 0:\n",
    "        print(f'{i} domains are ok')\n",
    "    else:\n",
    "        print('ups')\n",
    "    "
   ]
  },
  {
   "cell_type": "markdown",
   "metadata": {},
   "source": [
    "# DONE!!!"
   ]
  }
 ],
 "metadata": {
  "kernelspec": {
   "display_name": "Python 3",
   "language": "python",
   "name": "python3"
  },
  "language_info": {
   "codemirror_mode": {
    "name": "ipython",
    "version": 3
   },
   "file_extension": ".py",
   "mimetype": "text/x-python",
   "name": "python",
   "nbconvert_exporter": "python",
   "pygments_lexer": "ipython3",
   "version": "3.8.2"
  }
 },
 "nbformat": 4,
 "nbformat_minor": 4
}
