{
 "cells": [
  {
   "cell_type": "markdown",
   "metadata": {},
   "source": [
    "# (L)BFGS"
   ]
  },
  {
   "cell_type": "code",
   "execution_count": 1,
   "metadata": {},
   "outputs": [
    {
     "name": "stderr",
     "output_type": "stream",
     "text": [
      "/home/tomas/miniconda3/envs/pyml/lib/python3.7/site-packages/Bio/PDB/StructureBuilder.py:91: PDBConstructionWarning: WARNING: Chain A is discontinuous at line 4375.\n",
      "  PDBConstructionWarning)\n",
      "/home/tomas/miniconda3/envs/pyml/lib/python3.7/site-packages/Bio/PDB/StructureBuilder.py:91: PDBConstructionWarning: WARNING: Chain B is discontinuous at line 4395.\n",
      "  PDBConstructionWarning)\n",
      "/home/tomas/miniconda3/envs/pyml/lib/python3.7/site-packages/Bio/PDB/StructureBuilder.py:91: PDBConstructionWarning: WARNING: Chain N is discontinuous at line 4413.\n",
      "  PDBConstructionWarning)\n",
      "/home/tomas/miniconda3/envs/pyml/lib/python3.7/site-packages/Bio/PDB/StructureBuilder.py:91: PDBConstructionWarning: WARNING: Chain F is discontinuous at line 4459.\n",
      "  PDBConstructionWarning)\n",
      "/home/tomas/miniconda3/envs/pyml/lib/python3.7/site-packages/Bio/PDB/StructureBuilder.py:91: PDBConstructionWarning: WARNING: Chain J is discontinuous at line 4462.\n",
      "  PDBConstructionWarning)\n"
     ]
    }
   ],
   "source": [
    "import torch\n",
    "from get_coords import get_coords\n",
    "import numpy as np\n",
    "import matplotlib.pyplot as plt\n",
    "from structure import Structure\n",
    "from G_phi_psi import make_distmap\n",
    "from optimize import loss\n",
    "from G_phi_psi import G\n",
    "\n",
    "coords = get_coords('1a02F00')\n",
    "\n",
    "backbone = torch.from_numpy(coords[:, 4:][coords[:, 3] != 'CB'].astype(np.float))\n",
    "cbeta = torch.from_numpy(coords[:, 4:][coords[:, 3] == 'CB'].astype(np.float))\n",
    "\n",
    "phi = torch.load('1a02F00_phi.pt')\n",
    "psi = torch.load('1a02F00_psi.pt')\n",
    "\n",
    "phi = np.radians(phi[1:])\n",
    "psi = np.radians(psi[:-1])\n",
    "\n",
    "with open('1a02F00.fasta') as f:\n",
    "    f.readline()\n",
    "    seq = f.readline()\n",
    "    \n",
    "# real distmap\n",
    "c = []\n",
    "for i in coords:\n",
    "    if i[3] == 'CA' and i[2] == 'G':\n",
    "        c.append(i[4:])\n",
    "    elif i[3] == 'CB':\n",
    "        c.append(i[4:])\n",
    "        \n",
    "c = torch.tensor(c, dtype=torch.float)\n",
    "\n",
    "dist_map_real = make_distmap(c)\n",
    "\n",
    "G_1a02 = Structure(phi, psi, dist_map_real, seq)"
   ]
  },
  {
   "cell_type": "code",
   "execution_count": 2,
   "metadata": {},
   "outputs": [],
   "source": [
    "torsion = torch.cat((phi, psi)).requires_grad_()"
   ]
  },
  {
   "cell_type": "code",
   "execution_count": 3,
   "metadata": {},
   "outputs": [],
   "source": [
    "# initialize B (inverse Hessian approximate), xk, gk\n",
    "\n",
    "B = torch.diag(torch.ones(len(torsion)))\n",
    "xk = torch.zeros(len(torsion))\n",
    "gk = torch.zeros(len(torsion))"
   ]
  },
  {
   "cell_type": "code",
   "execution_count": 4,
   "metadata": {},
   "outputs": [],
   "source": [
    "pred = G(torsion, seq)"
   ]
  },
  {
   "cell_type": "code",
   "execution_count": 5,
   "metadata": {},
   "outputs": [],
   "source": [
    "L = loss(pred, dist_map_real)"
   ]
  },
  {
   "cell_type": "markdown",
   "metadata": {},
   "source": [
    "**Calculate $x_{k + 1}$ and $g_{k + 1}$**"
   ]
  },
  {
   "cell_type": "code",
   "execution_count": 6,
   "metadata": {},
   "outputs": [],
   "source": [
    "L.backward()\n",
    "xk1 = torsion.detach()\n",
    "gk1 = torsion.grad"
   ]
  },
  {
   "cell_type": "markdown",
   "metadata": {},
   "source": [
    "**Calculate $p_k$ and $q_k$**"
   ]
  },
  {
   "cell_type": "code",
   "execution_count": 37,
   "metadata": {},
   "outputs": [],
   "source": [
    "pk = (xk1 - xk).to(torch.float)\n",
    "qk = (gk1 - gk).to(torch.float)"
   ]
  },
  {
   "cell_type": "markdown",
   "metadata": {},
   "source": [
    "**Calculate $V$ nad $B_{k+1}$**"
   ]
  },
  {
   "cell_type": "code",
   "execution_count": 44,
   "metadata": {},
   "outputs": [],
   "source": [
    "V = (pk - B.mv(qk.t())).view(1, -1)\n",
    "#B = B -  "
   ]
  },
  {
   "cell_type": "code",
   "execution_count": 47,
   "metadata": {},
   "outputs": [
    {
     "data": {
      "text/plain": [
       "tensor([-6.7386e+10])"
      ]
     },
     "execution_count": 47,
     "metadata": {},
     "output_type": "execute_result"
    }
   ],
   "source": [
    "V.mv(qk)"
   ]
  },
  {
   "cell_type": "code",
   "execution_count": 48,
   "metadata": {},
   "outputs": [
    {
     "data": {
      "text/plain": [
       "tensor([[6.7386e+10]])"
      ]
     },
     "execution_count": 48,
     "metadata": {},
     "output_type": "execute_result"
    }
   ],
   "source": [
    "V.mm(V.t())"
   ]
  },
  {
   "cell_type": "code",
   "execution_count": 7,
   "metadata": {},
   "outputs": [
    {
     "data": {
      "text/plain": [
       "tensor([[ 0.0000,  5.5745,  5.2658,  ..., 74.2745, 76.5421, 79.8635],\n",
       "        [ 5.5745,  0.0000,  5.3023,  ..., 72.9742, 74.9657, 78.2487],\n",
       "        [ 5.2658,  5.3023,  0.0000,  ..., 71.2431, 73.5717, 76.6548],\n",
       "        ...,\n",
       "        [74.2745, 72.9742, 71.2431,  ...,  0.0000,  5.3974,  7.1309],\n",
       "        [76.5421, 74.9657, 73.5717,  ...,  5.3974,  0.0000,  5.5673],\n",
       "        [79.8635, 78.2487, 76.6548,  ...,  7.1309,  5.5673,  0.0000]])"
      ]
     },
     "execution_count": 7,
     "metadata": {},
     "output_type": "execute_result"
    }
   ],
   "source": [
    "dist_map_real"
   ]
  },
  {
   "cell_type": "code",
   "execution_count": 10,
   "metadata": {},
   "outputs": [
    {
     "data": {
      "text/plain": [
       "tensor([-1.1488e+05,  2.1635e+03, -7.4802e+04,  2.1432e+04, -3.8222e+04,\n",
       "         1.4692e+04, -1.6435e+04,  6.5156e+03, -8.9798e+01,  1.0685e+04,\n",
       "        -5.8823e+03,  2.0399e+03, -5.9118e+02,  3.1984e+03, -9.7868e+02,\n",
       "         1.2700e+03, -3.7121e+02,  1.2240e+03, -2.1223e+02,  3.8118e+02,\n",
       "        -2.8026e+02,  1.0990e+02, -4.3805e+02,  1.3075e+02, -1.2684e+02,\n",
       "         1.1224e+02, -8.0126e+01,  2.2132e+01, -1.8380e+01,  6.6903e+01,\n",
       "        -3.3274e+01,  1.7839e+01, -1.6132e+01,  1.1425e+01, -6.1699e+00,\n",
       "         9.5007e+00, -2.2296e+00,  6.7154e+00,  1.8912e+00,  4.8588e+00,\n",
       "         1.5443e+00,  2.7634e+00,  1.8943e+00,  3.0088e+00,  1.2432e+00,\n",
       "         1.3803e+00,  1.5451e+00,  7.6785e-01,  7.4039e-01,  9.3091e-01,\n",
       "         3.3175e-01,  7.9112e-02,  1.7935e+04, -1.6824e+05,  2.5172e+04,\n",
       "        -9.7472e+04,  4.3732e+04, -5.2542e+04,  2.8668e+04, -2.8468e+04,\n",
       "         2.0907e+04, -4.5536e+03,  1.5193e+04, -1.0680e+04,  6.8835e+03,\n",
       "        -2.8369e+03,  5.2156e+03, -2.5516e+03,  2.6807e+03, -1.1421e+03,\n",
       "         1.7616e+03, -6.7812e+02,  8.0575e+02, -6.6693e+02,  2.4625e+02,\n",
       "        -5.2823e+02,  2.6514e+02, -2.2366e+02,  1.7627e+02, -1.5842e+02,\n",
       "         7.3327e+01, -4.8768e+01,  8.0980e+01, -5.3861e+01,  2.9114e+01,\n",
       "        -3.1614e+01,  1.7884e+01, -1.6054e+01,  1.1899e+01, -8.5021e+00,\n",
       "         7.3177e+00, -5.2069e+00,  3.1210e+00, -2.8692e+00,  7.5490e-01,\n",
       "        -2.1107e+00,  1.5982e+00, -1.5639e+00, -6.9684e-01, -1.8048e-01,\n",
       "        -5.8535e-01, -5.5639e-01,  1.6475e-01,  5.6226e-02])"
      ]
     },
     "execution_count": 10,
     "metadata": {},
     "output_type": "execute_result"
    }
   ],
   "source": [
    "B.mv(qk)"
   ]
  },
  {
   "cell_type": "code",
   "execution_count": 14,
   "metadata": {},
   "outputs": [
    {
     "data": {
      "text/plain": [
       "torch.float32"
      ]
     },
     "execution_count": 14,
     "metadata": {},
     "output_type": "execute_result"
    }
   ],
   "source": [
    "gk.dtype"
   ]
  },
  {
   "cell_type": "code",
   "execution_count": 12,
   "metadata": {},
   "outputs": [],
   "source": [
    "torsion = torch.cat((phi, psi)).requires_grad_()"
   ]
  },
  {
   "cell_type": "code",
   "execution_count": 13,
   "metadata": {},
   "outputs": [],
   "source": [
    "opt = torch.optim.LBFGS([torsion])"
   ]
  },
  {
   "cell_type": "code",
   "execution_count": 14,
   "metadata": {
    "collapsed": true,
    "jupyter": {
     "outputs_hidden": true
    }
   },
   "outputs": [
    {
     "name": "stdout",
     "output_type": "stream",
     "text": [
      "1480.7359619140625\n",
      "1481.500732421875\n",
      "2070.434814453125\n",
      "1521.37109375\n",
      "1521.7982177734375\n",
      "3680.231689453125\n",
      "1556.179443359375\n",
      "1580.0145263671875\n",
      "1533.39794921875\n",
      "1554.70703125\n",
      "1770.52734375\n",
      "1815.6947021484375\n",
      "1798.40673828125\n",
      "1814.0816650390625\n",
      "1867.806640625\n",
      "1963.1470947265625\n",
      "1947.73974609375\n",
      "1795.809814453125\n",
      "1569.416259765625\n",
      "2153.6708984375\n",
      "2748.1171875\n",
      "4525.71728515625\n",
      "5257.833984375\n",
      "3411.46240234375\n",
      "7224.27880859375\n",
      "nan\n",
      "nan\n",
      "nan\n",
      "nan\n",
      "nan\n",
      "nan\n",
      "nan\n",
      "nan\n",
      "nan\n",
      "nan\n",
      "nan\n",
      "nan\n",
      "nan\n",
      "nan\n",
      "nan\n",
      "nan\n",
      "nan\n",
      "nan\n",
      "nan\n",
      "nan\n",
      "nan\n",
      "nan\n"
     ]
    },
    {
     "ename": "KeyboardInterrupt",
     "evalue": "",
     "output_type": "error",
     "traceback": [
      "\u001b[0;31m---------------------------------------------------------------------------\u001b[0m",
      "\u001b[0;31mKeyboardInterrupt\u001b[0m                         Traceback (most recent call last)",
      "\u001b[0;32m<ipython-input-14-a836148bf092>\u001b[0m in \u001b[0;36m<module>\u001b[0;34m\u001b[0m\n\u001b[1;32m      8\u001b[0m         \u001b[0;32mreturn\u001b[0m \u001b[0mL\u001b[0m\u001b[0;34m\u001b[0m\u001b[0;34m\u001b[0m\u001b[0m\n\u001b[1;32m      9\u001b[0m \u001b[0;34m\u001b[0m\u001b[0m\n\u001b[0;32m---> 10\u001b[0;31m     \u001b[0mopt\u001b[0m\u001b[0;34m.\u001b[0m\u001b[0mstep\u001b[0m\u001b[0;34m(\u001b[0m\u001b[0mclosure\u001b[0m\u001b[0;34m)\u001b[0m\u001b[0;34m\u001b[0m\u001b[0;34m\u001b[0m\u001b[0m\n\u001b[0m",
      "\u001b[0;32m~/miniconda3/envs/pyml/lib/python3.7/site-packages/torch/optim/lbfgs.py\u001b[0m in \u001b[0;36mstep\u001b[0;34m(self, closure)\u001b[0m\n\u001b[1;32m    430\u001b[0m                     \u001b[0;31m# the reason we do this: in a stochastic setting,\u001b[0m\u001b[0;34m\u001b[0m\u001b[0;34m\u001b[0m\u001b[0;34m\u001b[0m\u001b[0m\n\u001b[1;32m    431\u001b[0m                     \u001b[0;31m# no use to re-evaluate that function here\u001b[0m\u001b[0;34m\u001b[0m\u001b[0;34m\u001b[0m\u001b[0;34m\u001b[0m\u001b[0m\n\u001b[0;32m--> 432\u001b[0;31m                     \u001b[0mloss\u001b[0m \u001b[0;34m=\u001b[0m \u001b[0mfloat\u001b[0m\u001b[0;34m(\u001b[0m\u001b[0mclosure\u001b[0m\u001b[0;34m(\u001b[0m\u001b[0;34m)\u001b[0m\u001b[0;34m)\u001b[0m\u001b[0;34m\u001b[0m\u001b[0;34m\u001b[0m\u001b[0m\n\u001b[0m\u001b[1;32m    433\u001b[0m                     \u001b[0mflat_grad\u001b[0m \u001b[0;34m=\u001b[0m \u001b[0mself\u001b[0m\u001b[0;34m.\u001b[0m\u001b[0m_gather_flat_grad\u001b[0m\u001b[0;34m(\u001b[0m\u001b[0;34m)\u001b[0m\u001b[0;34m\u001b[0m\u001b[0;34m\u001b[0m\u001b[0m\n\u001b[1;32m    434\u001b[0m                     \u001b[0mopt_cond\u001b[0m \u001b[0;34m=\u001b[0m \u001b[0mflat_grad\u001b[0m\u001b[0;34m.\u001b[0m\u001b[0mabs\u001b[0m\u001b[0;34m(\u001b[0m\u001b[0;34m)\u001b[0m\u001b[0;34m.\u001b[0m\u001b[0mmax\u001b[0m\u001b[0;34m(\u001b[0m\u001b[0;34m)\u001b[0m \u001b[0;34m<=\u001b[0m \u001b[0mtolerance_grad\u001b[0m\u001b[0;34m\u001b[0m\u001b[0;34m\u001b[0m\u001b[0m\n",
      "\u001b[0;32m<ipython-input-14-a836148bf092>\u001b[0m in \u001b[0;36mclosure\u001b[0;34m()\u001b[0m\n\u001b[1;32m      4\u001b[0m         \u001b[0mp\u001b[0m \u001b[0;34m=\u001b[0m \u001b[0mG\u001b[0m\u001b[0;34m(\u001b[0m\u001b[0mtorsion\u001b[0m\u001b[0;34m,\u001b[0m \u001b[0mseq\u001b[0m\u001b[0;34m)\u001b[0m\u001b[0;34m\u001b[0m\u001b[0;34m\u001b[0m\u001b[0m\n\u001b[1;32m      5\u001b[0m         \u001b[0mL\u001b[0m \u001b[0;34m=\u001b[0m \u001b[0mloss\u001b[0m\u001b[0;34m(\u001b[0m\u001b[0mp\u001b[0m\u001b[0;34m,\u001b[0m \u001b[0mdist_map_real\u001b[0m\u001b[0;34m)\u001b[0m\u001b[0;34m\u001b[0m\u001b[0;34m\u001b[0m\u001b[0m\n\u001b[0;32m----> 6\u001b[0;31m         \u001b[0mL\u001b[0m\u001b[0;34m.\u001b[0m\u001b[0mbackward\u001b[0m\u001b[0;34m(\u001b[0m\u001b[0;34m)\u001b[0m\u001b[0;34m\u001b[0m\u001b[0;34m\u001b[0m\u001b[0m\n\u001b[0m\u001b[1;32m      7\u001b[0m         \u001b[0mprint\u001b[0m\u001b[0;34m(\u001b[0m\u001b[0mL\u001b[0m\u001b[0;34m.\u001b[0m\u001b[0mitem\u001b[0m\u001b[0;34m(\u001b[0m\u001b[0;34m)\u001b[0m\u001b[0;34m)\u001b[0m\u001b[0;34m\u001b[0m\u001b[0;34m\u001b[0m\u001b[0m\n\u001b[1;32m      8\u001b[0m         \u001b[0;32mreturn\u001b[0m \u001b[0mL\u001b[0m\u001b[0;34m\u001b[0m\u001b[0;34m\u001b[0m\u001b[0m\n",
      "\u001b[0;32m~/miniconda3/envs/pyml/lib/python3.7/site-packages/torch/tensor.py\u001b[0m in \u001b[0;36mbackward\u001b[0;34m(self, gradient, retain_graph, create_graph)\u001b[0m\n\u001b[1;32m    164\u001b[0m                 \u001b[0mproducts\u001b[0m\u001b[0;34m.\u001b[0m \u001b[0mDefaults\u001b[0m \u001b[0mto\u001b[0m\u001b[0;31m \u001b[0m\u001b[0;31m`\u001b[0m\u001b[0;31m`\u001b[0m\u001b[0;32mFalse\u001b[0m\u001b[0;31m`\u001b[0m\u001b[0;31m`\u001b[0m\u001b[0;34m.\u001b[0m\u001b[0;34m\u001b[0m\u001b[0;34m\u001b[0m\u001b[0m\n\u001b[1;32m    165\u001b[0m         \"\"\"\n\u001b[0;32m--> 166\u001b[0;31m         \u001b[0mtorch\u001b[0m\u001b[0;34m.\u001b[0m\u001b[0mautograd\u001b[0m\u001b[0;34m.\u001b[0m\u001b[0mbackward\u001b[0m\u001b[0;34m(\u001b[0m\u001b[0mself\u001b[0m\u001b[0;34m,\u001b[0m \u001b[0mgradient\u001b[0m\u001b[0;34m,\u001b[0m \u001b[0mretain_graph\u001b[0m\u001b[0;34m,\u001b[0m \u001b[0mcreate_graph\u001b[0m\u001b[0;34m)\u001b[0m\u001b[0;34m\u001b[0m\u001b[0;34m\u001b[0m\u001b[0m\n\u001b[0m\u001b[1;32m    167\u001b[0m \u001b[0;34m\u001b[0m\u001b[0m\n\u001b[1;32m    168\u001b[0m     \u001b[0;32mdef\u001b[0m \u001b[0mregister_hook\u001b[0m\u001b[0;34m(\u001b[0m\u001b[0mself\u001b[0m\u001b[0;34m,\u001b[0m \u001b[0mhook\u001b[0m\u001b[0;34m)\u001b[0m\u001b[0;34m:\u001b[0m\u001b[0;34m\u001b[0m\u001b[0;34m\u001b[0m\u001b[0m\n",
      "\u001b[0;32m~/miniconda3/envs/pyml/lib/python3.7/site-packages/torch/autograd/__init__.py\u001b[0m in \u001b[0;36mbackward\u001b[0;34m(tensors, grad_tensors, retain_graph, create_graph, grad_variables)\u001b[0m\n\u001b[1;32m     97\u001b[0m     Variable._execution_engine.run_backward(\n\u001b[1;32m     98\u001b[0m         \u001b[0mtensors\u001b[0m\u001b[0;34m,\u001b[0m \u001b[0mgrad_tensors\u001b[0m\u001b[0;34m,\u001b[0m \u001b[0mretain_graph\u001b[0m\u001b[0;34m,\u001b[0m \u001b[0mcreate_graph\u001b[0m\u001b[0;34m,\u001b[0m\u001b[0;34m\u001b[0m\u001b[0;34m\u001b[0m\u001b[0m\n\u001b[0;32m---> 99\u001b[0;31m         allow_unreachable=True)  # allow_unreachable flag\n\u001b[0m\u001b[1;32m    100\u001b[0m \u001b[0;34m\u001b[0m\u001b[0m\n\u001b[1;32m    101\u001b[0m \u001b[0;34m\u001b[0m\u001b[0m\n",
      "\u001b[0;31mKeyboardInterrupt\u001b[0m: "
     ]
    }
   ],
   "source": [
    "for i in range(10):\n",
    "    def closure():\n",
    "        opt.zero_grad()\n",
    "        p = G(torsion, seq)\n",
    "        L = loss(p, dist_map_real)\n",
    "        L.backward()\n",
    "        print(L.item())\n",
    "        return L\n",
    "    \n",
    "    opt.step(closure)"
   ]
  },
  {
   "cell_type": "code",
   "execution_count": 6,
   "metadata": {},
   "outputs": [],
   "source": [
    "def closure():\n",
    "    opt.zero_grad()\n",
    "    p = G(torsion, seq)\n",
    "    L = loss(p, dist_map_real)\n",
    "    L.backward()\n",
    "    return L"
   ]
  },
  {
   "cell_type": "code",
   "execution_count": 7,
   "metadata": {},
   "outputs": [
    {
     "data": {
      "text/plain": [
       "tensor(1480.7360, grad_fn=<NegBackward>)"
      ]
     },
     "execution_count": 7,
     "metadata": {},
     "output_type": "execute_result"
    }
   ],
   "source": [
    "opt.step(closure)"
   ]
  },
  {
   "cell_type": "code",
   "execution_count": null,
   "metadata": {},
   "outputs": [],
   "source": []
  }
 ],
 "metadata": {
  "kernelspec": {
   "display_name": "Python 3",
   "language": "python",
   "name": "python3"
  },
  "language_info": {
   "codemirror_mode": {
    "name": "ipython",
    "version": 3
   },
   "file_extension": ".py",
   "mimetype": "text/x-python",
   "name": "python",
   "nbconvert_exporter": "python",
   "pygments_lexer": "ipython3",
   "version": "3.7.6"
  }
 },
 "nbformat": 4,
 "nbformat_minor": 4
}
