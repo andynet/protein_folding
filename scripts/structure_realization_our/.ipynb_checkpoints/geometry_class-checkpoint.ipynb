{
 "cells": [
  {
   "cell_type": "code",
   "execution_count": 1,
   "metadata": {},
   "outputs": [],
   "source": [
    "import numpy as np\n",
    "import torch\n",
    "import matplotlib.pyplot as plt\n",
    "\n",
    "from get_coords import domains, get_coords\n",
    "from structure import Structure\n",
    "from G_phi_psi import make_distmap\n",
    "\n",
    "#%matplotlib widget\n",
    "\n",
    "coords_real = get_coords('16pkA01')\n",
    "\n",
    "phi = torch.load('16pkA01_phi.pt')\n",
    "psi = torch.load('16pkA01_psi.pt')\n",
    "\n",
    "phi = np.radians(phi[1:])\n",
    "psi = np.radians(psi[:-1])\n",
    "\n",
    "phi.requires_grad_(True)\n",
    "psi.requires_grad_(True)\n",
    "\n",
    "seq = domains['16pkA01'][2]\n",
    "\n",
    "# real distmap\n",
    "c = []\n",
    "for i in coords_real:\n",
    "    if i[3] == 'CA' and i[2] == 'G':\n",
    "        c.append(i[4:])\n",
    "    elif i[3] == 'CB':\n",
    "        c.append(i[4:])\n",
    "        \n",
    "c = torch.tensor(c, dtype=torch.float)\n",
    "\n",
    "dist_map_real = make_distmap(c)"
   ]
  },
  {
   "cell_type": "code",
   "execution_count": 2,
   "metadata": {},
   "outputs": [],
   "source": [
    "G_16pk = Structure(phi, psi, dist_map_real, seq)"
   ]
  },
  {
   "cell_type": "code",
   "execution_count": 5,
   "metadata": {},
   "outputs": [
    {
     "data": {
      "text/plain": [
       "tensor([[ 0.0000,  5.6146,  7.3663,  ..., 17.3072, 13.2712, 17.6606],\n",
       "        [ 0.0000,  0.0000,  5.2291,  ..., 16.6913, 12.8809, 16.2404],\n",
       "        [ 0.0000,  0.0000,  0.0000,  ..., 11.6383,  8.2612, 12.3727],\n",
       "        ...,\n",
       "        [ 0.0000,  0.0000,  0.0000,  ...,  0.0000,  4.6788,  6.7312],\n",
       "        [ 0.0000,  0.0000,  0.0000,  ...,  0.0000,  0.0000,  5.7672],\n",
       "        [ 0.0000,  0.0000,  0.0000,  ...,  0.0000,  0.0000,  0.0000]],\n",
       "       grad_fn=<CopySlices>)"
      ]
     },
     "execution_count": 5,
     "metadata": {},
     "output_type": "execute_result"
    }
   ],
   "source": [
    "G_16pk.G()"
   ]
  },
  {
   "cell_type": "code",
   "execution_count": 8,
   "metadata": {},
   "outputs": [
    {
     "data": {
      "application/vnd.jupyter.widget-view+json": {
       "model_id": "b9a603c944ae4c3a9c484d6a7a3c9f81",
       "version_major": 2,
       "version_minor": 0
      },
      "text/plain": [
       "Canvas(toolbar=Toolbar(toolitems=[('Home', 'Reset original view', 'home', 'home'), ('Back', 'Back to previous …"
      ]
     },
     "metadata": {},
     "output_type": "display_data"
    }
   ],
   "source": [
    "G_16pk.visualize_structure()"
   ]
  },
  {
   "cell_type": "code",
   "execution_count": null,
   "metadata": {},
   "outputs": [],
   "source": [
    "G_16pk.optimize(iterations=5, lr=1e-7, lr_decay=2, verbose=1)"
   ]
  },
  {
   "cell_type": "code",
   "execution_count": 7,
   "metadata": {},
   "outputs": [],
   "source": [
    "%matplotlib widget"
   ]
  },
  {
   "cell_type": "code",
   "execution_count": null,
   "metadata": {},
   "outputs": [],
   "source": []
  }
 ],
 "metadata": {
  "kernelspec": {
   "display_name": "Python 3",
   "language": "python",
   "name": "python3"
  },
  "language_info": {
   "codemirror_mode": {
    "name": "ipython",
    "version": 3
   },
   "file_extension": ".py",
   "mimetype": "text/x-python",
   "name": "python",
   "nbconvert_exporter": "python",
   "pygments_lexer": "ipython3",
   "version": "3.8.2"
  }
 },
 "nbformat": 4,
 "nbformat_minor": 4
}
