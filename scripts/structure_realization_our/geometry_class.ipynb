{
 "cells": [
  {
   "cell_type": "code",
   "execution_count": 1,
   "metadata": {},
   "outputs": [],
   "source": [
    "import numpy as np\n",
    "import torch\n",
    "import matplotlib.pyplot as plt\n",
    "\n",
    "from get_coords import domains, get_coords\n",
    "from structure import Structure\n",
    "from G_phi_psi import make_distmap, calc_dihedral\n",
    "\n",
    "from optimize import *\n",
    "%matplotlib widget"
   ]
  },
  {
   "cell_type": "code",
   "execution_count": 2,
   "metadata": {},
   "outputs": [],
   "source": [
    "coords_real = get_coords('16pkA01')\n",
    "\n",
    "phi = torch.load('16pkA01_phi.pt')\n",
    "psi = torch.load('16pkA01_psi.pt')\n",
    "\n",
    "phi = np.radians(phi[1:])\n",
    "psi = np.radians(psi[:-1])\n",
    "\n",
    "phi.requires_grad_(True)\n",
    "psi.requires_grad_(True)\n",
    "\n",
    "seq = domains['16pkA01'][2]\n",
    "\n",
    "# real distmap\n",
    "c = []\n",
    "for i in coords_real:\n",
    "    if i[3] == 'CA' and i[2] == 'G':\n",
    "        c.append(i[4:])\n",
    "    elif i[3] == 'CB':\n",
    "        c.append(i[4:])\n",
    "        \n",
    "c = torch.tensor(c, dtype=torch.float)\n",
    "\n",
    "dist_map_real = make_distmap(c)"
   ]
  },
  {
   "cell_type": "code",
   "execution_count": 3,
   "metadata": {},
   "outputs": [],
   "source": [
    "G_16pk = Structure(phi, psi, dist_map_real, seq)"
   ]
  },
  {
   "cell_type": "code",
   "execution_count": 4,
   "metadata": {},
   "outputs": [
    {
     "data": {
      "text/plain": [
       "tensor([[ 0.0000,  5.5894,  8.7316,  ..., 18.3036, 14.8335, 19.4084],\n",
       "        [ 0.0000,  0.0000,  5.6880,  ..., 16.7280, 13.6736, 16.9645],\n",
       "        [ 0.0000,  0.0000,  0.0000,  ..., 12.2200, 10.5035, 13.8901],\n",
       "        ...,\n",
       "        [ 0.0000,  0.0000,  0.0000,  ...,  0.0000,  4.9464,  6.1522],\n",
       "        [ 0.0000,  0.0000,  0.0000,  ...,  0.0000,  0.0000,  5.7634],\n",
       "        [ 0.0000,  0.0000,  0.0000,  ...,  0.0000,  0.0000,  0.0000]],\n",
       "       grad_fn=<CopySlices>)"
      ]
     },
     "execution_count": 4,
     "metadata": {},
     "output_type": "execute_result"
    }
   ],
   "source": [
    "G_16pk.G()"
   ]
  },
  {
   "cell_type": "code",
   "execution_count": 5,
   "metadata": {},
   "outputs": [
    {
     "data": {
      "application/vnd.jupyter.widget-view+json": {
       "model_id": "0ff0385ffcd2484a85e88221198aec3d",
       "version_major": 2,
       "version_minor": 0
      },
      "text/plain": [
       "Canvas(toolbar=Toolbar(toolitems=[('Home', 'Reset original view', 'home', 'home'), ('Back', 'Back to previous …"
      ]
     },
     "metadata": {},
     "output_type": "display_data"
    }
   ],
   "source": [
    "G_16pk.visualize_structure()"
   ]
  },
  {
   "cell_type": "code",
   "execution_count": 4,
   "metadata": {},
   "outputs": [],
   "source": [
    "cl, cb = G_16pk.G_full()"
   ]
  },
  {
   "cell_type": "code",
   "execution_count": 15,
   "metadata": {},
   "outputs": [],
   "source": [
    "ph = []\n",
    "for i in range(0, len(cl)-3, 3):\n",
    "    ph.append(calc_dihedral(cl[i:(i+4)]))"
   ]
  },
  {
   "cell_type": "code",
   "execution_count": 20,
   "metadata": {
    "collapsed": true,
    "jupyter": {
     "outputs_hidden": true
    }
   },
   "outputs": [
    {
     "data": {
      "text/plain": [
       "tensor([-0.7505,  2.5133,  2.4609,  2.9671, -0.5934, -0.3142,  0.0698,  2.6180,\n",
       "         2.0595, -0.2618,  2.1293,  0.0000,  2.5307,  1.9199,  2.0944,  2.0769,\n",
       "         2.0944,  1.8326,  2.8798,  1.7104,  0.4363,  1.2217,  2.6704,  2.3387,\n",
       "         2.4784,  2.1293,  0.6632,  0.0175,  2.4260,  2.2340, -0.0698,  1.8850,\n",
       "         0.2443, -0.8203, -0.5934, -0.7679, -0.7156, -0.4189, -0.3142, -0.8552,\n",
       "        -0.6981, -0.7854, -0.7330, -0.6807, -0.8029, -0.8727, -0.7505, -0.6283,\n",
       "        -0.0349,  0.3840, -3.0543,  2.7751,  2.3038,  1.7977,  2.3736,  2.3736,\n",
       "         2.9845,  2.8100,  2.2340, -2.6878,  1.2217,  2.7227, -0.9076,  2.7402,\n",
       "         2.5831,  2.4609, -0.6109, -0.5934, -0.1920, -0.7854, -0.9425, -0.9599,\n",
       "        -0.8378, -0.5760, -0.6807, -0.1571, -0.0175,  2.9496,  2.0769,  2.0944,\n",
       "         0.1396,  2.4609,  1.9897, -0.7505, -0.4363,  0.3491,  2.5482,  0.0349,\n",
       "        -0.7679, -0.4363, -0.6632, -0.8029, -0.8029, -0.6981, -0.7330, -0.7505,\n",
       "        -0.7156, -0.6632, -0.3491,  0.7156,  2.7925,  2.6005,  1.9199,  2.1991,\n",
       "         2.1817,  1.8500, -0.2094,  1.9722, -0.3665,  0.1396,  1.0297,  0.3142,\n",
       "        -0.7505, -0.9774, -0.7156, -0.6807, -0.5585,  0.0000,  2.5133,  2.8274,\n",
       "         2.3562, -0.2094,  2.6878,  2.1642,  2.3387,  2.0769,  2.6704,  2.8100,\n",
       "         2.0420, -0.3142,  0.1571, -0.1920,  2.2340, -0.5585, -0.2443, -0.8901,\n",
       "         0.4363,  2.6005, -0.2443,  2.1468, -0.7505, -0.6283, -0.8552, -0.6632,\n",
       "        -0.6981, -0.8029, -0.7854, -0.5411, -0.7156, -0.8378, -0.7505, -0.5236,\n",
       "        -0.1920, -0.0349,  3.1241, -0.7156,  2.5307,  2.2864,  2.2340,  2.1293,\n",
       "         0.6632,  1.2566, -0.6283, -0.3665,  0.1745, -0.2269,  0.0698,  2.5307,\n",
       "         2.5133,  2.7751, -0.8203, -0.5236, -0.5934, -0.5411, -0.9425, -0.9425,\n",
       "        -0.5585, -0.9076, -0.7679, -0.6109,  0.1222,  2.7925,  2.3911,  2.7925,\n",
       "         2.2864,  3.1241, -0.6283], dtype=torch.float64, requires_grad=True)"
      ]
     },
     "execution_count": 20,
     "metadata": {},
     "output_type": "execute_result"
    }
   ],
   "source": [
    "psi"
   ]
  },
  {
   "cell_type": "code",
   "execution_count": 23,
   "metadata": {
    "collapsed": true,
    "jupyter": {
     "outputs_hidden": true
    }
   },
   "outputs": [
    {
     "data": {
      "text/plain": [
       "array([-0.7505,  2.5133,  2.4609,  2.9671, -0.5934, -0.3142,  0.0698,\n",
       "        2.618 ,  2.0595, -0.2618,  2.1293, -0.    ,  2.5307,  1.9199,\n",
       "        2.0944,  2.0769,  2.0944,  1.8326,  2.8798,  1.7104,  0.4363,\n",
       "        1.2217,  2.6704,  2.3387,  2.4784,  2.1293,  0.6632,  0.0175,\n",
       "        2.426 ,  2.234 , -0.0698,  1.885 ,  0.2443, -0.8203, -0.5934,\n",
       "       -0.7679, -0.7156, -0.4189, -0.3142, -0.8552, -0.6981, -0.7854,\n",
       "       -0.733 , -0.6807, -0.8029, -0.8727, -0.7505, -0.6283, -0.0349,\n",
       "        0.384 , -3.0543,  2.7751,  2.3038,  1.7977,  2.3736,  2.3736,\n",
       "        2.9845,  2.81  ,  2.234 , -2.6878,  1.2217,  2.7227, -0.9076,\n",
       "        2.7402,  2.5831,  2.4609, -0.6109, -0.5934, -0.192 , -0.7854,\n",
       "       -0.9425, -0.9599, -0.8378, -0.576 , -0.6807, -0.1571, -0.0175,\n",
       "        2.9496,  2.0769,  2.0944,  0.1396,  2.4609,  1.9897, -0.7505,\n",
       "       -0.4363,  0.3491,  2.5482,  0.0349, -0.7679, -0.4363, -0.6632,\n",
       "       -0.8029, -0.8029, -0.6981, -0.733 , -0.7505, -0.7156, -0.6632,\n",
       "       -0.3491,  0.7156,  2.7925,  2.6005,  1.9199,  2.1991,  2.1817,\n",
       "        1.85  , -0.2094,  1.9722, -0.3665,  0.1396,  1.0297,  0.3142,\n",
       "       -0.7505, -0.9774, -0.7156, -0.6807, -0.5585,  0.    ,  2.5133,\n",
       "        2.8274,  2.3562, -0.2094,  2.6878,  2.1642,  2.3387,  2.0769,\n",
       "        2.6704,  2.81  ,  2.042 , -0.3142,  0.1571, -0.192 ,  2.234 ,\n",
       "       -0.5585, -0.2443, -0.8901,  0.4363,  2.6005, -0.2443,  2.1468,\n",
       "       -0.7505, -0.6283, -0.8552, -0.6632, -0.6981, -0.8029, -0.7854,\n",
       "       -0.5411, -0.7156, -0.8378, -0.7505, -0.5236, -0.192 , -0.0349,\n",
       "        3.1241, -0.7156,  2.5307,  2.2864,  2.234 ,  2.1293,  0.6632,\n",
       "        1.2566, -0.6283, -0.3665,  0.1745, -0.2269,  0.0698,  2.5307,\n",
       "        2.5133,  2.7751, -0.8203, -0.5236, -0.5934, -0.5411, -0.9425,\n",
       "       -0.9425, -0.5585, -0.9076, -0.7679, -0.6109,  0.1222,  2.7925,\n",
       "        2.3911,  2.7925,  2.2864,  3.1241, -0.6283], dtype=float32)"
      ]
     },
     "execution_count": 23,
     "metadata": {},
     "output_type": "execute_result"
    }
   ],
   "source": [
    "np.round(np.array(ph), 4)"
   ]
  },
  {
   "cell_type": "code",
   "execution_count": 24,
   "metadata": {},
   "outputs": [],
   "source": [
    "l = loss(td, dist_map_real)"
   ]
  },
  {
   "cell_type": "code",
   "execution_count": 26,
   "metadata": {},
   "outputs": [],
   "source": [
    "l.backward()"
   ]
  },
  {
   "cell_type": "code",
   "execution_count": 16,
   "metadata": {},
   "outputs": [],
   "source": [
    "G_16pk.phi.grad"
   ]
  },
  {
   "cell_type": "code",
   "execution_count": 5,
   "metadata": {},
   "outputs": [
    {
     "name": "stdout",
     "output_type": "stream",
     "text": [
      "Iteration 0, Loss: 74858.0546875\n",
      "Iteration 1, Loss: 78932.1796875\n"
     ]
    }
   ],
   "source": [
    "s, h = optimize(G_16pk, iterations=2, lr=1e-1)"
   ]
  },
  {
   "cell_type": "code",
   "execution_count": null,
   "metadata": {},
   "outputs": [],
   "source": [
    "torch.std"
   ]
  },
  {
   "cell_type": "markdown",
   "metadata": {},
   "source": [
    "# Small Protein - 1a02F00"
   ]
  },
  {
   "cell_type": "code",
   "execution_count": 2,
   "metadata": {},
   "outputs": [],
   "source": [
    "def visualize_structure(backbone, cbeta_coords, seq):\n",
    "    \n",
    "    \"\"\"Visualizes the entire structure: backbone + C-beta atoms\n",
    "    \n",
    "    In the first step generates a list of residue coordinates:\n",
    "        If Glycin: only N, CA, C atoms are present.\n",
    "        Else: N, CA, CB, CA, C (the CA is there twice to make the plotting easier)\n",
    "    \"\"\"\n",
    "    \n",
    "    fig = plt.figure()\n",
    "    \n",
    "    entire_structure = torch.empty((len(backbone) + 2 * len(cbeta_coords), 3))\n",
    "    \n",
    "    it = 0\n",
    "    cb_it = 0\n",
    "    for i in range(len(seq)):\n",
    "        N, CA, C = backbone[(3 * i):(3 * i + 3)]\n",
    "        \n",
    "        if seq[i] != 'G':\n",
    "            CB = cbeta_coords[cb_it]\n",
    "            cb_it += 1\n",
    "            entire_structure[it:(it+5)] = torch.cat([N, CA, CB, CA, C]).view((5, 3))\n",
    "            it += 5\n",
    "        else:\n",
    "            entire_structure[it:(it+3)] = torch.cat([N, CA, C]).view((3, 3))\n",
    "            it += 3\n",
    "    #return entire_structure       \n",
    "    c = entire_structure.data.numpy()\n",
    "\n",
    "    ax = fig.gca(projection='3d')\n",
    "    ax.plot(c[:, 0], c[:, 1], c[:, 2])\n",
    "\n",
    "    #ax.scatter(c[:, 0], c[:, 1], c[:, 2], s=100)"
   ]
  },
  {
   "cell_type": "code",
   "execution_count": 3,
   "metadata": {},
   "outputs": [
    {
     "name": "stderr",
     "output_type": "stream",
     "text": [
      "/home/tomas/miniconda3/envs/pyml/lib/python3.7/site-packages/Bio/PDB/StructureBuilder.py:91: PDBConstructionWarning: WARNING: Chain A is discontinuous at line 4375.\n",
      "  PDBConstructionWarning)\n",
      "/home/tomas/miniconda3/envs/pyml/lib/python3.7/site-packages/Bio/PDB/StructureBuilder.py:91: PDBConstructionWarning: WARNING: Chain B is discontinuous at line 4395.\n",
      "  PDBConstructionWarning)\n",
      "/home/tomas/miniconda3/envs/pyml/lib/python3.7/site-packages/Bio/PDB/StructureBuilder.py:91: PDBConstructionWarning: WARNING: Chain N is discontinuous at line 4413.\n",
      "  PDBConstructionWarning)\n",
      "/home/tomas/miniconda3/envs/pyml/lib/python3.7/site-packages/Bio/PDB/StructureBuilder.py:91: PDBConstructionWarning: WARNING: Chain F is discontinuous at line 4459.\n",
      "  PDBConstructionWarning)\n",
      "/home/tomas/miniconda3/envs/pyml/lib/python3.7/site-packages/Bio/PDB/StructureBuilder.py:91: PDBConstructionWarning: WARNING: Chain J is discontinuous at line 4462.\n",
      "  PDBConstructionWarning)\n"
     ]
    }
   ],
   "source": [
    "coords = get_coords('1a02F00')\n",
    "\n",
    "backbone = torch.from_numpy(coords[:, 4:][coords[:, 3] != 'CB'].astype(np.float))\n",
    "cbeta = torch.from_numpy(coords[:, 4:][coords[:, 3] == 'CB'].astype(np.float))\n",
    "\n",
    "phi = torch.load('1a02F00_phi.pt')\n",
    "psi = torch.load('1a02F00_psi.pt')\n",
    "\n",
    "phi = np.radians(phi[1:])\n",
    "psi = np.radians(psi[:-1])\n",
    "\n",
    "phi.requires_grad_(True)\n",
    "psi.requires_grad_(True)\n",
    "\n",
    "with open('1a02F00.fasta') as f:\n",
    "    f.readline()\n",
    "    seq = f.readline()"
   ]
  },
  {
   "cell_type": "code",
   "execution_count": 4,
   "metadata": {},
   "outputs": [],
   "source": [
    "# real distmap\n",
    "c = []\n",
    "for i in coords:\n",
    "    if i[3] == 'CA' and i[2] == 'G':\n",
    "        c.append(i[4:])\n",
    "    elif i[3] == 'CB':\n",
    "        c.append(i[4:])\n",
    "        \n",
    "c = torch.tensor(c, dtype=torch.float)\n",
    "\n",
    "dist_map_real = make_distmap(c)"
   ]
  },
  {
   "cell_type": "code",
   "execution_count": 6,
   "metadata": {},
   "outputs": [
    {
     "data": {
      "application/vnd.jupyter.widget-view+json": {
       "model_id": "c702b12a3b294b29a2673a7399cae807",
       "version_major": 2,
       "version_minor": 0
      },
      "text/plain": [
       "Canvas(toolbar=Toolbar(toolitems=[('Home', 'Reset original view', 'home', 'home'), ('Back', 'Back to previous …"
      ]
     },
     "metadata": {},
     "output_type": "display_data"
    },
    {
     "data": {
      "text/plain": [
       "<matplotlib.image.AxesImage at 0x7f06fd950350>"
      ]
     },
     "execution_count": 6,
     "metadata": {},
     "output_type": "execute_result"
    }
   ],
   "source": [
    "plt.imshow(dist_map_real, cmap='viridis_r')"
   ]
  },
  {
   "cell_type": "code",
   "execution_count": 7,
   "metadata": {},
   "outputs": [
    {
     "data": {
      "application/vnd.jupyter.widget-view+json": {
       "model_id": "cc51ddbbbf7d4f89ae7a750bb77ac6b7",
       "version_major": 2,
       "version_minor": 0
      },
      "text/plain": [
       "Canvas(toolbar=Toolbar(toolitems=[('Home', 'Reset original view', 'home', 'home'), ('Back', 'Back to previous …"
      ]
     },
     "metadata": {},
     "output_type": "display_data"
    }
   ],
   "source": [
    "visualize_structure(backbone, cbeta, seq)"
   ]
  },
  {
   "cell_type": "code",
   "execution_count": 8,
   "metadata": {},
   "outputs": [],
   "source": [
    "G_1a02 = Structure(phi, psi, dist_map_real, seq)"
   ]
  },
  {
   "cell_type": "code",
   "execution_count": 9,
   "metadata": {},
   "outputs": [
    {
     "data": {
      "application/vnd.jupyter.widget-view+json": {
       "model_id": "02a7bfdd7b514e4fa1c960c636bdf2d6",
       "version_major": 2,
       "version_minor": 0
      },
      "text/plain": [
       "Canvas(toolbar=Toolbar(toolitems=[('Home', 'Reset original view', 'home', 'home'), ('Back', 'Back to previous …"
      ]
     },
     "metadata": {},
     "output_type": "display_data"
    }
   ],
   "source": [
    "G_1a02.visualize_structure()"
   ]
  },
  {
   "cell_type": "markdown",
   "metadata": {},
   "source": [
    "# Messing it up"
   ]
  },
  {
   "cell_type": "code",
   "execution_count": 22,
   "metadata": {},
   "outputs": [],
   "source": [
    "phi = torch.load('1a02F00_phi.pt')\n",
    "psi = torch.load('1a02F00_psi.pt')\n",
    "\n",
    "phi = np.radians(phi[1:])\n",
    "psi = np.radians(psi[:-1])\n",
    "\n",
    "phi += torch.randn(len(phi)) \n",
    "psi += torch.randn(len(phi))\n",
    "\n",
    "phi.requires_grad_(True)\n",
    "psi.requires_grad_(True)\n",
    "\n",
    "G_messedup = Structure(phi, psi, dist_map_real, seq)"
   ]
  },
  {
   "cell_type": "code",
   "execution_count": 20,
   "metadata": {},
   "outputs": [
    {
     "name": "stdout",
     "output_type": "stream",
     "text": [
      "Iteration 0, Loss: inf\n"
     ]
    },
    {
     "ename": "UnboundLocalError",
     "evalue": "local variable 'best_structure' referenced before assignment",
     "output_type": "error",
     "traceback": [
      "\u001b[0;31m---------------------------------------------------------------------------\u001b[0m",
      "\u001b[0;31mUnboundLocalError\u001b[0m                         Traceback (most recent call last)",
      "\u001b[0;32m<ipython-input-20-6a9cbe3b8752>\u001b[0m in \u001b[0;36m<module>\u001b[0;34m\u001b[0m\n\u001b[0;32m----> 1\u001b[0;31m \u001b[0ms\u001b[0m\u001b[0;34m,\u001b[0m \u001b[0ml\u001b[0m\u001b[0;34m,\u001b[0m \u001b[0mh\u001b[0m \u001b[0;34m=\u001b[0m \u001b[0moptimize\u001b[0m\u001b[0;34m(\u001b[0m\u001b[0mG_messedup\u001b[0m\u001b[0;34m,\u001b[0m \u001b[0;36m10\u001b[0m\u001b[0;34m,\u001b[0m \u001b[0mlr\u001b[0m\u001b[0;34m=\u001b[0m\u001b[0;36m1e-2\u001b[0m\u001b[0;34m,\u001b[0m \u001b[0mlr_decay\u001b[0m\u001b[0;34m=\u001b[0m\u001b[0;36m2\u001b[0m\u001b[0;34m,\u001b[0m \u001b[0mverbose\u001b[0m\u001b[0;34m=\u001b[0m\u001b[0;36m10\u001b[0m\u001b[0;34m)\u001b[0m\u001b[0;34m\u001b[0m\u001b[0;34m\u001b[0m\u001b[0m\n\u001b[0m",
      "\u001b[0;32m~/Desktop/struc_real/optimize.py\u001b[0m in \u001b[0;36moptimize\u001b[0;34m(structure, iterations, lr, lr_decay, decay_frequency, verbose, img_dir)\u001b[0m\n\u001b[1;32m     65\u001b[0m             \u001b[0mstructure\u001b[0m\u001b[0;34m.\u001b[0m\u001b[0mvisualize_structure\u001b[0m\u001b[0;34m(\u001b[0m\u001b[0;34m'{}/iter_{:04d}.png'\u001b[0m\u001b[0;34m.\u001b[0m\u001b[0mformat\u001b[0m\u001b[0;34m(\u001b[0m\u001b[0mimg_dir\u001b[0m\u001b[0;34m,\u001b[0m \u001b[0mi\u001b[0m\u001b[0;34m)\u001b[0m\u001b[0;34m)\u001b[0m\u001b[0;34m\u001b[0m\u001b[0;34m\u001b[0m\u001b[0m\n\u001b[1;32m     66\u001b[0m \u001b[0;34m\u001b[0m\u001b[0m\n\u001b[0;32m---> 67\u001b[0;31m     \u001b[0;32mreturn\u001b[0m \u001b[0mbest_structure\u001b[0m\u001b[0;34m,\u001b[0m \u001b[0mmin_loss\u001b[0m\u001b[0;34m,\u001b[0m \u001b[0mnp\u001b[0m\u001b[0;34m.\u001b[0m\u001b[0marray\u001b[0m\u001b[0;34m(\u001b[0m\u001b[0mhistory\u001b[0m\u001b[0;34m)\u001b[0m\u001b[0;34m\u001b[0m\u001b[0;34m\u001b[0m\u001b[0m\n\u001b[0m",
      "\u001b[0;31mUnboundLocalError\u001b[0m: local variable 'best_structure' referenced before assignment"
     ]
    }
   ],
   "source": [
    "s, l, h = optimize(G_messedup, 20, lr=1e-2, lr_decay=2, verbose=10)"
   ]
  },
  {
   "cell_type": "code",
   "execution_count": 21,
   "metadata": {},
   "outputs": [
    {
     "data": {
      "text/plain": [
       "tensor([nan, nan, nan, nan, nan, nan, nan, nan, nan, nan, nan, nan, nan, nan, nan, nan, nan, nan, nan, nan, nan, nan, nan, nan,\n",
       "        nan, nan, nan, nan, nan, nan, nan, nan, nan, nan, nan, nan, nan, nan, nan, nan, nan, nan, nan, nan, nan, nan, nan, nan,\n",
       "        nan, nan, nan, nan], dtype=torch.float64, requires_grad=True)"
      ]
     },
     "execution_count": 21,
     "metadata": {},
     "output_type": "execute_result"
    }
   ],
   "source": [
    "G_messedup.phi"
   ]
  },
  {
   "cell_type": "code",
   "execution_count": 18,
   "metadata": {},
   "outputs": [
    {
     "data": {
      "text/plain": [
       "True"
      ]
     },
     "execution_count": 18,
     "metadata": {},
     "output_type": "execute_result"
    }
   ],
   "source": [
    "np.inf > 5"
   ]
  },
  {
   "cell_type": "code",
   "execution_count": 11,
   "metadata": {},
   "outputs": [
    {
     "data": {
      "image/png": "[encoded data removed]",
      "text/plain": [
       "<Figure size 432x288 with 1 Axes>"
      ]
     },
     "metadata": {
      "needs_background": "light"
     },
     "output_type": "display_data"
    }
   ],
   "source": [
    "plt.plot(h[:, 0], h[:, 1]);"
   ]
  },
  {
   "cell_type": "code",
   "execution_count": 13,
   "metadata": {},
   "outputs": [
    {
     "data": {
      "application/vnd.jupyter.widget-view+json": {
       "model_id": "10552d0dd22142fb81da8ce24f4a9286",
       "version_major": 2,
       "version_minor": 0
      },
      "text/plain": [
       "Canvas(toolbar=Toolbar(toolitems=[('Home', 'Reset original view', 'home', 'home'), ('Back', 'Back to previous …"
      ]
     },
     "metadata": {},
     "output_type": "display_data"
    }
   ],
   "source": [
    "s.visualize_structure()"
   ]
  },
  {
   "cell_type": "code",
   "execution_count": 1,
   "metadata": {},
   "outputs": [],
   "source": [
    "import torch\n",
    "import torch.nn.functional as F"
   ]
  },
  {
   "cell_type": "code",
   "execution_count": 19,
   "metadata": {},
   "outputs": [],
   "source": [
    "B = 1\n",
    "\n",
    "dist_pred = F.log_softmax(torch.rand((B, 32, 64, 64)), dim=1)\n",
    "ss_pred = F.log_softmax(torch.rand((B, 8, 64)), dim=1)\n",
    "phi_pred = F.log_softmax(torch.rand((B, 37, 64)), dim=1)\n",
    "psi_pred = F.log_softmax(torch.rand((B, 37, 64)), dim=1)\n",
    "\n",
    "dist = torch.randint(0, 31, (64, 64), dtype=torch.int64)\n",
    "#ss = torch.randint(0, 8, (64), dtype=torch.int64)\n",
    "#phi = torch.randint(0, 8, (64), dtype=torch.int64)\n",
    "#psi = torch.randint(0, 8, (64), dtype=torch.int64)\n",
    "\n",
    "#loss = 10 * criterion(dist_pred, dist)\n",
    "#loss += 2 * criterion(ss_pred, ss)\n",
    "#loss += 2 * criterion(phi_pred, phi)\n",
    "#loss += 2 * criterion(psi_pred, psi)\n",
    "\n",
    "#print(loss)"
   ]
  },
  {
   "cell_type": "code",
   "execution_count": null,
   "metadata": {},
   "outputs": [],
   "source": []
  }
 ],
 "metadata": {
  "kernelspec": {
   "display_name": "Python 3",
   "language": "python",
   "name": "python3"
  },
  "language_info": {
   "codemirror_mode": {
    "name": "ipython",
    "version": 3
   },
   "file_extension": ".py",
   "mimetype": "text/x-python",
   "name": "python",
   "nbconvert_exporter": "python",
   "pygments_lexer": "ipython3",
   "version": "3.7.6"
  }
 },
 "nbformat": 4,
 "nbformat_minor": 4
}
