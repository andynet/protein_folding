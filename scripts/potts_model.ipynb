{
 "cells": [
  {
   "cell_type": "markdown",
   "metadata": {},
   "source": [
    "# Potts Model example"
   ]
  },
  {
   "cell_type": "markdown",
   "metadata": {},
   "source": [
    "### MSA\n",
    "\n",
    "`0   1   2\n",
    " A   B   B\n",
    " A   C   B\n",
    " C   C   A\n",
    " A   C   B`"
   ]
  },
  {
   "cell_type": "code",
   "execution_count": 1,
   "metadata": {},
   "outputs": [],
   "source": [
    "import torch\n",
    "import numpy as np\n",
    "import seaborn as sns\n",
    "import matplotlib.pyplot as plt"
   ]
  },
  {
   "cell_type": "code",
   "execution_count": 2,
   "metadata": {},
   "outputs": [],
   "source": [
    "MSA = np.array([\n",
    "    ['A', 'B', 'B'],\n",
    "    ['A', 'C', 'B'],\n",
    "    ['C', 'C', 'A'],\n",
    "    ['A', 'C', 'B']\n",
    "],dtype='O')"
   ]
  },
  {
   "cell_type": "markdown",
   "metadata": {},
   "source": [
    "$$f_i(k) = \\frac{1}{B} \\sum_{b=1}^B \\delta(\\sigma_i^{(b)}, k)$$"
   ]
  },
  {
   "cell_type": "code",
   "execution_count": 3,
   "metadata": {},
   "outputs": [],
   "source": [
    "fi_k = torch.empty((3, 3))\n",
    "\n",
    "B = len(MSA)\n",
    "\n",
    "for i in range(3):\n",
    "    for j, a in enumerate(['A', 'B', 'C']):\n",
    "        fi_k[i, j] = 1/B * np.sum(MSA[:, i] == a)"
   ]
  },
  {
   "cell_type": "code",
   "execution_count": 4,
   "metadata": {},
   "outputs": [
    {
     "data": {
      "text/plain": [
       "tensor([[0.7500, 0.0000, 0.2500],\n",
       "        [0.0000, 0.2500, 0.7500],\n",
       "        [0.2500, 0.7500, 0.0000]])"
      ]
     },
     "execution_count": 4,
     "metadata": {},
     "output_type": "execute_result"
    }
   ],
   "source": [
    "fi_k"
   ]
  },
  {
   "cell_type": "markdown",
   "metadata": {},
   "source": [
    "$$f_{i,j}(k,l) = \\frac{1}{B} \\sum_{b=1}^B \\delta(\\sigma_i^{(b)}, k)\\delta(\\sigma_j^{(b)}, l)$$"
   ]
  },
  {
   "cell_type": "code",
   "execution_count": 5,
   "metadata": {},
   "outputs": [],
   "source": [
    "fij_kl = torch.empty((3, 3, 3, 3))\n",
    "\n",
    "for i in range(3):\n",
    "    for j in range(3):\n",
    "        for k, ai in enumerate(['A', 'B', 'C']):\n",
    "            for l, aj in enumerate(['A', 'B', 'C']):\n",
    "                fij_kl[i, j, k, l] = 1 / B * np.sum((1 * (MSA[:, i] == ai)) * (1 * (MSA[:, j] == aj)))"
   ]
  },
  {
   "cell_type": "code",
   "execution_count": 6,
   "metadata": {},
   "outputs": [
    {
     "data": {
      "text/plain": [
       "tensor([[[[0.7500, 0.0000, 0.0000],\n",
       "          [0.0000, 0.0000, 0.0000],\n",
       "          [0.0000, 0.0000, 0.2500]],\n",
       "\n",
       "         [[0.0000, 0.2500, 0.5000],\n",
       "          [0.0000, 0.0000, 0.0000],\n",
       "          [0.0000, 0.0000, 0.2500]],\n",
       "\n",
       "         [[0.0000, 0.7500, 0.0000],\n",
       "          [0.0000, 0.0000, 0.0000],\n",
       "          [0.2500, 0.0000, 0.0000]]],\n",
       "\n",
       "\n",
       "        [[[0.0000, 0.0000, 0.0000],\n",
       "          [0.2500, 0.0000, 0.0000],\n",
       "          [0.5000, 0.0000, 0.2500]],\n",
       "\n",
       "         [[0.0000, 0.0000, 0.0000],\n",
       "          [0.0000, 0.2500, 0.0000],\n",
       "          [0.0000, 0.0000, 0.7500]],\n",
       "\n",
       "         [[0.0000, 0.0000, 0.0000],\n",
       "          [0.0000, 0.2500, 0.0000],\n",
       "          [0.2500, 0.5000, 0.0000]]],\n",
       "\n",
       "\n",
       "        [[[0.0000, 0.0000, 0.2500],\n",
       "          [0.7500, 0.0000, 0.0000],\n",
       "          [0.0000, 0.0000, 0.0000]],\n",
       "\n",
       "         [[0.0000, 0.0000, 0.2500],\n",
       "          [0.0000, 0.2500, 0.5000],\n",
       "          [0.0000, 0.0000, 0.0000]],\n",
       "\n",
       "         [[0.2500, 0.0000, 0.0000],\n",
       "          [0.0000, 0.7500, 0.0000],\n",
       "          [0.0000, 0.0000, 0.0000]]]])"
      ]
     },
     "execution_count": 6,
     "metadata": {},
     "output_type": "execute_result"
    }
   ],
   "source": [
    "fij_kl"
   ]
  },
  {
   "cell_type": "markdown",
   "metadata": {},
   "source": [
    "# Potts Model\n",
    "\n",
    "is a model that calculates the probability of a sequence, while satisfying two constraints (if we could consider all possible sequences, than the propensity of each symbol at each position would be $f_ij$ and the connected correlations would be $f_{i,j}(k, l)$):\n",
    "\n",
    "$$P(\\sigma_i = k) = \\sum_{\\substack{\\mathbf{\\sigma} \\\\ \\sigma_i = k}} P(\\mathbf{\\sigma}) = f_i(k)$$\n",
    "\n",
    "$$P(\\sigma_i = k, \\sigma_j = l) = \\sum_{\\substack{\\mathbf{\\sigma} \\\\ \\sigma_i = k \\\\ \\sigma_j = l}} P(\\mathbf{\\sigma}) = f_{i, j}(k, l)$$\n",
    "\n",
    "A model that satisfies this is:\n",
    "\n",
    "$$P(\\sigma) = \\frac{1}{Z} exp\\left( \\sum_{i=1}^N h_i(\\sigma_i) + \\sum_{i = 1}^{N - 1} \\sum_{j = i + 1} ^ N J_{i, j} (\\sigma_i, \\sigma_j)\\right)$$\n",
    "\n",
    "where $Z$ is the partition function, that normalizes the distribution (ensures that the probabilities sum to 1)"
   ]
  },
  {
   "cell_type": "code",
   "execution_count": 7,
   "metadata": {},
   "outputs": [],
   "source": [
    "def potts(seq, h, J, Z=torch.tensor(1), alphabet=None):\n",
    "    '''\n",
    "    Calculates the probability of a sequence given parameters \"h\" and \"J\"\n",
    "    '''\n",
    "    if alphabet is None:\n",
    "        alphabet = dict(zip([i for i in 'ABCDEFGHIJKLMNOPRQSTUWVXYZ'], range(26)))\n",
    "    \n",
    "    # h part\n",
    "    hsum = 0\n",
    "    for i in range(len(seq)):\n",
    "        hsum += h[i, alphabet[seq[i]]]\n",
    "    \n",
    "    # J part\n",
    "    jsum = 0\n",
    "    \n",
    "    for i in range(len(seq) - 1):\n",
    "        for j in range(i + 1, len(seq)):\n",
    "            jsum += J[i, j, alphabet[seq[i]], alphabet[seq[j]]]\n",
    "            \n",
    "    return (1 / Z * torch.exp(hsum + jsum)).item()"
   ]
  },
  {
   "cell_type": "markdown",
   "metadata": {},
   "source": [
    "### Calculate the value of Partition Function"
   ]
  },
  {
   "cell_type": "code",
   "execution_count": 8,
   "metadata": {},
   "outputs": [],
   "source": [
    "seqlist = []\n",
    "for i in ['A', 'B', 'C']:\n",
    "    for j in ['A', 'B', 'C']:\n",
    "        for k in ['A', 'B', 'C']:\n",
    "            seqlist.append(i+j+k)"
   ]
  },
  {
   "cell_type": "code",
   "execution_count": 9,
   "metadata": {},
   "outputs": [],
   "source": [
    "Z = 0\n",
    "for s in seqlist:\n",
    "    Z += potts(s, fi_k, fij_kl)"
   ]
  },
  {
   "cell_type": "code",
   "execution_count": 10,
   "metadata": {},
   "outputs": [
    {
     "data": {
      "text/plain": [
       "178.40069270133972"
      ]
     },
     "execution_count": 10,
     "metadata": {},
     "output_type": "execute_result"
    }
   ],
   "source": [
    "Z"
   ]
  },
  {
   "cell_type": "markdown",
   "metadata": {},
   "source": [
    "## Sequence probabilities"
   ]
  },
  {
   "cell_type": "code",
   "execution_count": 11,
   "metadata": {},
   "outputs": [],
   "source": [
    "sp = np.empty((27, 2), dtype='O')\n",
    "\n",
    "for i, s in enumerate(seqlist):\n",
    "    sp[i] = [s, potts(s, fi_k, fij_kl, Z)]"
   ]
  },
  {
   "cell_type": "code",
   "execution_count": 18,
   "metadata": {},
   "outputs": [
    {
     "data": {
      "image/png": "[encoded data removed]",
      "text/plain": [
       "<Figure size 864x504 with 1 Axes>"
      ]
     },
     "metadata": {
      "needs_background": "light"
     },
     "output_type": "display_data"
    }
   ],
   "source": [
    "fig = plt.figure(figsize=(12, 7))\n",
    "sns.barplot(sp[:, 0], sp[:, 1], palette=['navy' for i in range(27)])\n",
    "plt.ylabel(r'$\\mathcal{P}(\\sigma)$', fontsize=18)\n",
    "plt.xticks(rotation=45, fontsize=15)\n",
    "plt.yticks(fontsize=15)\n",
    "plt.tight_layout()\n",
    "plt.savefig('../plots/potts_example.png')"
   ]
  },
  {
   "cell_type": "markdown",
   "metadata": {},
   "source": [
    "# Finding the parameters of the Potts Model"
   ]
  },
  {
   "cell_type": "markdown",
   "metadata": {},
   "source": [
    "### 1. C) The inverse Potts Problem"
   ]
  },
  {
   "cell_type": "code",
   "execution_count": 98,
   "metadata": {},
   "outputs": [],
   "source": [
    "def loss(h, J, fi_k, fij_kl, Z):  \n",
    "    return torch.log(Z) - torch.sum(h * fi_k) - torch.sum(J * fij_kl)"
   ]
  },
  {
   "cell_type": "markdown",
   "metadata": {},
   "source": [
    "initialize parameters `h` and `J`"
   ]
  },
  {
   "cell_type": "code",
   "execution_count": 105,
   "metadata": {},
   "outputs": [],
   "source": [
    "h = torch.rand((3, 3), requires_grad=True)\n",
    "J = torch.rand((3, 3, 3, 3))\n",
    "J = (0.5 * (J + J.permute((1, 0, 3, 2)))).requires_grad_()"
   ]
  },
  {
   "cell_type": "markdown",
   "metadata": {},
   "source": [
    "Find minimum"
   ]
  },
  {
   "cell_type": "code",
   "execution_count": 106,
   "metadata": {},
   "outputs": [
    {
     "name": "stdout",
     "output_type": "stream",
     "text": [
      "tensor(-2.2191)\n",
      "tensor(-67.2191)\n",
      "tensor(-132.2190)\n",
      "tensor(-197.2195)\n",
      "tensor(-262.2197)\n",
      "tensor(-327.2198)\n",
      "tensor(-392.2200)\n",
      "tensor(-457.2201)\n",
      "tensor(-522.2203)\n",
      "tensor(-587.2192)\n"
     ]
    }
   ],
   "source": [
    "alpha = 0.1\n",
    "for i in range(1000):\n",
    "    if h.grad is not None:\n",
    "        h.grad.zero_()\n",
    "    if J.grad is not None:\n",
    "        J.grad.zero_()\n",
    "    \n",
    "    L = loss(h, J, fi_k, fij_kl, torch.tensor(Z))\n",
    "    L.backward()\n",
    "    \n",
    "    h = (h - alpha * h.grad).detach().requires_grad_()\n",
    "    J = J - alpha * J.grad\n",
    "    J = (0.5 * (J + J.permute((1, 0, 3, 2)))).detach().requires_grad_()\n",
    "    if i % 100 == 0:\n",
    "        with torch.no_grad():\n",
    "            L = loss(h, J, fi_k, fij_kl, torch.tensor(Z))\n",
    "            print(L)"
   ]
  },
  {
   "cell_type": "code",
   "execution_count": 107,
   "metadata": {},
   "outputs": [
    {
     "name": "stdout",
     "output_type": "stream",
     "text": [
      "\n"
     ]
    }
   ],
   "source": [
    "h.detach_()\n",
    "J.detach_()\n",
    "print()"
   ]
  },
  {
   "cell_type": "code",
   "execution_count": 108,
   "metadata": {},
   "outputs": [
    {
     "data": {
      "text/plain": [
       "array([[0.74 , 0.008, 0.254],\n",
       "       [0.009, 0.247, 0.749],\n",
       "       [0.249, 0.742, 0.002]], dtype=float32)"
      ]
     },
     "execution_count": 108,
     "metadata": {},
     "output_type": "execute_result"
    }
   ],
   "source": [
    "h = h / torch.sum(h, dim=1)\n",
    "np.round(h.data.numpy(), 3)"
   ]
  },
  {
   "cell_type": "code",
   "execution_count": 109,
   "metadata": {},
   "outputs": [
    {
     "data": {
      "text/plain": [
       "tensor([[0.7500, 0.0000, 0.2500],\n",
       "        [0.0000, 0.2500, 0.7500],\n",
       "        [0.2500, 0.7500, 0.0000]])"
      ]
     },
     "execution_count": 109,
     "metadata": {},
     "output_type": "execute_result"
    }
   ],
   "source": [
    "fi_k"
   ]
  },
  {
   "cell_type": "code",
   "execution_count": 110,
   "metadata": {},
   "outputs": [
    {
     "data": {
      "text/plain": [
       "array([[[[0.731, 0.001, 0.002],\n",
       "         [0.001, 0.001, 0.004],\n",
       "         [0.002, 0.004, 0.246]],\n",
       "\n",
       "        [[0.007, 0.241, 0.481],\n",
       "         [0.005, 0.003, 0.007],\n",
       "         [0.008, 0.004, 0.244]],\n",
       "\n",
       "        [[0.009, 0.718, 0.003],\n",
       "         [0.005, 0.006, 0.006],\n",
       "         [0.241, 0.008, 0.004]]],\n",
       "\n",
       "\n",
       "       [[[0.007, 0.005, 0.008],\n",
       "         [0.241, 0.003, 0.004],\n",
       "         [0.481, 0.007, 0.244]],\n",
       "\n",
       "        [[0.   , 0.004, 0.005],\n",
       "         [0.004, 0.243, 0.004],\n",
       "         [0.005, 0.004, 0.712]],\n",
       "\n",
       "        [[0.004, 0.002, 0.005],\n",
       "         [0.005, 0.251, 0.005],\n",
       "         [0.239, 0.483, 0.004]]],\n",
       "\n",
       "\n",
       "       [[[0.009, 0.005, 0.241],\n",
       "         [0.718, 0.006, 0.008],\n",
       "         [0.003, 0.006, 0.004]],\n",
       "\n",
       "        [[0.004, 0.005, 0.239],\n",
       "         [0.002, 0.251, 0.483],\n",
       "         [0.005, 0.005, 0.004]],\n",
       "\n",
       "        [[0.251, 0.003, 0.007],\n",
       "         [0.003, 0.735, 0.006],\n",
       "         [0.007, 0.006, 0.006]]]], dtype=float32)"
      ]
     },
     "execution_count": 110,
     "metadata": {},
     "output_type": "execute_result"
    }
   ],
   "source": [
    "J = J / torch.sum(J, dim=(2, 3))\n",
    "np.round(J.data.numpy(), 3)"
   ]
  },
  {
   "cell_type": "code",
   "execution_count": 111,
   "metadata": {},
   "outputs": [
    {
     "data": {
      "text/plain": [
       "tensor([[[[0.7500, 0.0000, 0.0000],\n",
       "          [0.0000, 0.0000, 0.0000],\n",
       "          [0.0000, 0.0000, 0.2500]],\n",
       "\n",
       "         [[0.0000, 0.2500, 0.5000],\n",
       "          [0.0000, 0.0000, 0.0000],\n",
       "          [0.0000, 0.0000, 0.2500]],\n",
       "\n",
       "         [[0.0000, 0.7500, 0.0000],\n",
       "          [0.0000, 0.0000, 0.0000],\n",
       "          [0.2500, 0.0000, 0.0000]]],\n",
       "\n",
       "\n",
       "        [[[0.0000, 0.0000, 0.0000],\n",
       "          [0.2500, 0.0000, 0.0000],\n",
       "          [0.5000, 0.0000, 0.2500]],\n",
       "\n",
       "         [[0.0000, 0.0000, 0.0000],\n",
       "          [0.0000, 0.2500, 0.0000],\n",
       "          [0.0000, 0.0000, 0.7500]],\n",
       "\n",
       "         [[0.0000, 0.0000, 0.0000],\n",
       "          [0.0000, 0.2500, 0.0000],\n",
       "          [0.2500, 0.5000, 0.0000]]],\n",
       "\n",
       "\n",
       "        [[[0.0000, 0.0000, 0.2500],\n",
       "          [0.7500, 0.0000, 0.0000],\n",
       "          [0.0000, 0.0000, 0.0000]],\n",
       "\n",
       "         [[0.0000, 0.0000, 0.2500],\n",
       "          [0.0000, 0.2500, 0.5000],\n",
       "          [0.0000, 0.0000, 0.0000]],\n",
       "\n",
       "         [[0.2500, 0.0000, 0.0000],\n",
       "          [0.0000, 0.7500, 0.0000],\n",
       "          [0.0000, 0.0000, 0.0000]]]])"
      ]
     },
     "execution_count": 111,
     "metadata": {},
     "output_type": "execute_result"
    }
   ],
   "source": [
    "fij_kl"
   ]
  },
  {
   "cell_type": "markdown",
   "metadata": {},
   "source": [
    "### 2. E) Pseudolikelihood maximization"
   ]
  },
  {
   "cell_type": "markdown",
   "metadata": {},
   "source": [
    "If the size of the alphabet is large, and so is the length of the sequence, then the computation of the partition function is not possible. The probability function is slightly altered.\n",
    "\n",
    "$$\n",
    "P(\\sigma_{r} = \\sigma_r^{(b)} | \\sigma_{\\setminus r} = \\sigma_{\\setminus r}^{(b)}) = \\frac{exp \\left(h_r (\\sigma_r^{(b)}) + \\sum_{\\substack{i = 1\\\\i\\neq r}}^L J_{ri}(\\sigma_r^{(b)}, \\sigma_i^{(b)})\\right)}{\\sum_{q \\in \\mathcal{A}} exp \\left(h_r(q) + \\sum_{\\substack{i = 1\\\\i\\neq r}}^L J_{ri}(q, \\sigma_i^{(b)})\\right)}$$\n",
    "\n",
    "This asks the question:\n",
    "\n",
    "What is the probability, that a symbol in a sequence $\\sigma$ at position $r$ : $\\sigma_r$ equals the symbol of the $(b)$th sequence in the MSA: $\\sigma_r^{(b)}$ given that the rest of the symbols match"
   ]
  },
  {
   "cell_type": "code",
   "execution_count": 131,
   "metadata": {},
   "outputs": [],
   "source": [
    "def pseudolikelihood(MSA, h, J, alphabet=None):\n",
    "    \"\"\"\n",
    "    Calculates the pseudolikelihood of a sequence given parameters of the \n",
    "    model: 'h' and 'J' and the MSA\n",
    "    \"\"\"\n",
    "    if alphabet is None:\n",
    "        alphabet = dict(zip([i for i in 'ABC'], range(3)))\n",
    "        #alphabet = dict(zip([i for i in 'ABCDEFGHIJKLMNOPRQSTUWVXYZ'], range(26)))\n",
    "    \n",
    "    B, N = MSA.shape\n",
    "    pl = 0\n",
    "    \n",
    "    for r in range(N):\n",
    "        for b in range(B):\n",
    "            # numerator\n",
    "            num = 0\n",
    "            num += h[r, alphabet[MSA[b, r]]]\n",
    "            for i in range(N):\n",
    "                if i != r:\n",
    "                    num += J[r, i, alphabet[MSA[b, r]], alphabet[MSA[b, i]]]\n",
    "            \n",
    "            num = torch.exp(num)\n",
    "            \n",
    "            # denominator\n",
    "            den = 0\n",
    "            for r, l in enumerate(alphabet):\n",
    "                temp = 0\n",
    "                temp += h[r, alphabet[l]]\n",
    "                for i in range(N):\n",
    "                    if i != r:\n",
    "                        temp += J[r, i, alphabet[l], alphabet[MSA[b, i]]]\n",
    "\n",
    "                den += torch.exp(temp)\n",
    "            \n",
    "            P = num / den\n",
    "            pl += torch.log(P)\n",
    "    return -1/B * pl"
   ]
  },
  {
   "cell_type": "code",
   "execution_count": 132,
   "metadata": {},
   "outputs": [
    {
     "data": {
      "text/plain": [
       "array([['A', 'B', 'B'],\n",
       "       ['A', 'C', 'B'],\n",
       "       ['C', 'C', 'A'],\n",
       "       ['A', 'C', 'B']], dtype=object)"
      ]
     },
     "execution_count": 132,
     "metadata": {},
     "output_type": "execute_result"
    }
   ],
   "source": [
    "MSA"
   ]
  },
  {
   "cell_type": "code",
   "execution_count": 142,
   "metadata": {},
   "outputs": [],
   "source": [
    "h = torch.rand((3, 3))\n",
    "J = torch.rand((3, 3, 3, 3))"
   ]
  },
  {
   "cell_type": "code",
   "execution_count": 134,
   "metadata": {},
   "outputs": [
    {
     "data": {
      "text/plain": [
       "tensor(4.4463)"
      ]
     },
     "execution_count": 134,
     "metadata": {},
     "output_type": "execute_result"
    }
   ],
   "source": [
    "pseudolikelihood(MSA, h, J)"
   ]
  },
  {
   "cell_type": "code",
   "execution_count": 208,
   "metadata": {},
   "outputs": [],
   "source": [
    "h = torch.rand((3, 3), requires_grad=True)\n",
    "J = torch.rand((3, 3, 3, 3))\n",
    "J = (0.5 * (J + J.permute((1, 0, 3, 2)))).requires_grad_()  # transpose so that values across diagonalare the same"
   ]
  },
  {
   "cell_type": "code",
   "execution_count": 209,
   "metadata": {},
   "outputs": [
    {
     "name": "stdout",
     "output_type": "stream",
     "text": [
      "Iteration 0000, Loss: 4.894\n",
      "Iteration 0100, Loss: -4.250\n",
      "Iteration 0200, Loss: -13.135\n",
      "Iteration 0300, Loss: -21.930\n",
      "Iteration 0400, Loss: -30.676\n",
      "Iteration 0500, Loss: -39.392\n",
      "Iteration 0600, Loss: -48.088\n",
      "Iteration 0700, Loss: -56.771\n",
      "Iteration 0800, Loss: -65.445\n",
      "Iteration 0900, Loss: -74.111\n"
     ]
    }
   ],
   "source": [
    "alpha = 0.01\n",
    "for i in range(1000):\n",
    "    if h.grad is not None:\n",
    "        h.grad.zero_()\n",
    "    if J.grad is not None:\n",
    "        J.grad.zero_()\n",
    "    \n",
    "    L = pseudolikelihood(MSA, h, J)\n",
    "    L.backward()\n",
    "    \n",
    "    h = (h - alpha * h.grad).detach().requires_grad_()\n",
    "    J = (J - alpha * J.grad).detach()\n",
    "    J = (0.5 * (J + J.permute((1, 0, 3, 2)))).requires_grad_() # transpose J\n",
    "    \n",
    "    if i % 100 == 0:\n",
    "        with torch.no_grad():\n",
    "            L = pseudolikelihood(MSA, h, J)\n",
    "            print('Iteration {:04d}, Loss: {:.3f}'.format(i, L.item()))"
   ]
  },
  {
   "cell_type": "code",
   "execution_count": 210,
   "metadata": {},
   "outputs": [
    {
     "name": "stdout",
     "output_type": "stream",
     "text": [
      "\n"
     ]
    }
   ],
   "source": [
    "J.detach_()\n",
    "h.detach_()\n",
    "print()"
   ]
  },
  {
   "cell_type": "code",
   "execution_count": 211,
   "metadata": {},
   "outputs": [
    {
     "data": {
      "text/plain": [
       "tensor([[-9.7468,  0.3942,  0.5129],\n",
       "        [ 0.3669, -7.3937,  0.1635],\n",
       "        [ 7.5341, 17.7277, -6.4002]])"
      ]
     },
     "execution_count": 211,
     "metadata": {},
     "output_type": "execute_result"
    }
   ],
   "source": [
    "h"
   ]
  },
  {
   "cell_type": "code",
   "execution_count": 191,
   "metadata": {},
   "outputs": [
    {
     "ename": "TypeError",
     "evalue": "unsupported operand type(s) for +: 'Tensor' and 'torch.return_types.min'",
     "output_type": "error",
     "traceback": [
      "\u001b[0;31m---------------------------------------------------------------------------\u001b[0m",
      "\u001b[0;31mTypeError\u001b[0m                                 Traceback (most recent call last)",
      "\u001b[0;32m<ipython-input-191-25d4d3844633>\u001b[0m in \u001b[0;36m<module>\u001b[0;34m\u001b[0m\n\u001b[0;32m----> 1\u001b[0;31m \u001b[0mh\u001b[0m \u001b[0;34m=\u001b[0m \u001b[0mh\u001b[0m \u001b[0;34m/\u001b[0m \u001b[0mtorch\u001b[0m\u001b[0;34m.\u001b[0m\u001b[0msum\u001b[0m\u001b[0;34m(\u001b[0m\u001b[0mh\u001b[0m \u001b[0;34m+\u001b[0m \u001b[0mtorch\u001b[0m\u001b[0;34m.\u001b[0m\u001b[0mmin\u001b[0m\u001b[0;34m(\u001b[0m\u001b[0mh\u001b[0m\u001b[0;34m,\u001b[0m \u001b[0mdim\u001b[0m\u001b[0;34m=\u001b[0m\u001b[0;36m1\u001b[0m\u001b[0;34m)\u001b[0m\u001b[0;34m,\u001b[0m \u001b[0mdim\u001b[0m\u001b[0;34m=\u001b[0m\u001b[0;36m1\u001b[0m\u001b[0;34m)\u001b[0m\u001b[0;34m\u001b[0m\u001b[0;34m\u001b[0m\u001b[0m\n\u001b[0m\u001b[1;32m      2\u001b[0m \u001b[0mnp\u001b[0m\u001b[0;34m.\u001b[0m\u001b[0mround\u001b[0m\u001b[0;34m(\u001b[0m\u001b[0mh\u001b[0m\u001b[0;34m.\u001b[0m\u001b[0mdata\u001b[0m\u001b[0;34m.\u001b[0m\u001b[0mnumpy\u001b[0m\u001b[0;34m(\u001b[0m\u001b[0;34m)\u001b[0m\u001b[0;34m,\u001b[0m \u001b[0;36m3\u001b[0m\u001b[0;34m)\u001b[0m\u001b[0;34m\u001b[0m\u001b[0;34m\u001b[0m\u001b[0m\n",
      "\u001b[0;31mTypeError\u001b[0m: unsupported operand type(s) for +: 'Tensor' and 'torch.return_types.min'"
     ]
    }
   ],
   "source": [
    "h = h / torch.sum(h + torch.min(h, dim=1), dim=1)\n",
    "np.round(h.data.numpy(), 3)"
   ]
  },
  {
   "cell_type": "code",
   "execution_count": null,
   "metadata": {},
   "outputs": [],
   "source": [
    "J = J / torch.sum(J, dim=(2, 3))\n",
    "np.round(J.data.numpy(), 3)"
   ]
  }
 ],
 "metadata": {
  "kernelspec": {
   "display_name": "Python 3",
   "language": "python",
   "name": "python3"
  },
  "language_info": {
   "codemirror_mode": {
    "name": "ipython",
    "version": 3
   },
   "file_extension": ".py",
   "mimetype": "text/x-python",
   "name": "python",
   "nbconvert_exporter": "python",
   "pygments_lexer": "ipython3",
   "version": "3.8.2"
  }
 },
 "nbformat": 4,
 "nbformat_minor": 4
}
