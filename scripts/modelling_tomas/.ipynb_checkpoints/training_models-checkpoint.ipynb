{
 "cells": [
  {
   "cell_type": "code",
   "execution_count": null,
   "metadata": {},
   "outputs": [],
   "source": [
    "from training_function import train\n",
    "#from ConvNet import ConvNet\n",
    "#from Inception import Inception\n",
    "from Inception_aux import Inception\n",
    "import torch\n",
    "import numpy as np\n",
    "from crops import make_batches"
   ]
  },
  {
   "cell_type": "code",
   "execution_count": 2,
   "metadata": {},
   "outputs": [],
   "source": [
    "EPOCHS = 1\n",
    "BATCH_SIZE = 8\n",
    "ITERATION_DOMAINS = 40#500\n",
    "VALIDATION_SIZE = 20#250\n",
    "CPU_WORKERS = 16\n",
    "LEARNING_RATE = 1e-5\n",
    "WEIGHT_DECAY = 1e-4"
   ]
  },
  {
   "cell_type": "code",
   "execution_count": 3,
   "metadata": {},
   "outputs": [],
   "source": [
    "train_domains = np.loadtxt('../../data/our_input/train_domains.csv', dtype='O')\n",
    "\n",
    "model = Inception()#.to(\"cuda\")\n",
    "opt = torch.optim.Adam(model.parameters(), lr=LEARNING_RATE, weight_decay=WEIGHT_DECAY)"
   ]
  },
  {
   "cell_type": "code",
   "execution_count": 4,
   "metadata": {},
   "outputs": [],
   "source": [
    "X = torch.load(f'../../data/our_input/tensors/{train_domains[1]}_X.pt')\n",
    "Y = torch.load(f'../../data/our_input/Y_tensors/{train_domains[1]}_Y.pt')\n",
    "\n",
    "i, o = make_batches(X, Y[0], random_state=3)"
   ]
  },
  {
   "cell_type": "code",
   "execution_count": 5,
   "metadata": {},
   "outputs": [],
   "source": [
    "d, ai, aj = model.forward(i)"
   ]
  },
  {
   "cell_type": "code",
   "execution_count": null,
   "metadata": {},
   "outputs": [],
   "source": []
  }
 ],
 "metadata": {
  "kernelspec": {
   "display_name": "Python 3",
   "language": "python",
   "name": "python3"
  },
  "language_info": {
   "codemirror_mode": {
    "name": "ipython",
    "version": 3
   },
   "file_extension": ".py",
   "mimetype": "text/x-python",
   "name": "python",
   "nbconvert_exporter": "python",
   "pygments_lexer": "ipython3",
   "version": "3.8.2"
  }
 },
 "nbformat": 4,
 "nbformat_minor": 4
}
