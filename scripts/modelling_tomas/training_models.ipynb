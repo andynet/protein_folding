{
 "cells": [
  {
   "cell_type": "code",
   "execution_count": 1,
   "metadata": {},
   "outputs": [],
   "source": [
    "from training_function import train\n",
    "#from ConvNet import ConvNet\n",
    "#from Inception import Inception\n",
    "from Inception_aux import Inception_aux\n",
    "from ConvNet_aux import ConvNet_aux\n",
    "from AlphaFold import AlphaFold\n",
    "\n",
    "import torch\n",
    "import numpy as np\n",
    "from crops import make_batches"
   ]
  },
  {
   "cell_type": "code",
   "execution_count": 2,
   "metadata": {},
   "outputs": [],
   "source": [
    "EPOCHS = 3\n",
    "BATCH_SIZE = 8\n",
    "ITERATION_DOMAINS = 40\n",
    "VALIDATION_SIZE = 20#250\n",
    "CPU_WORKERS = 16\n",
    "LEARNING_RATE = 0.01\n",
    "\n",
    "train_domains = np.loadtxt('../../data/our_input/train_domains.csv', dtype='O')"
   ]
  },
  {
   "cell_type": "code",
   "execution_count": 3,
   "metadata": {},
   "outputs": [],
   "source": [
    "model = Inception_aux().to(\"cuda\")\n",
    "#model = ConvNet_aux().to(\"cuda\")\n",
    "#model = AlphaFold().to(\"cuda\")\n",
    "opt = torch.optim.Adam(model.parameters(), lr=LEARNING_RATE)\n",
    "#opt = torch.optim.SGD(model.parameters(), lr=LEARNING_RATE, momentum=0.9, nesterov=True)\n",
    "\n",
    "scheduler = torch.optim.lr_scheduler.StepLR(opt, step_size=100000, gamma=0.3)"
   ]
  },
  {
   "cell_type": "code",
   "execution_count": 4,
   "metadata": {},
   "outputs": [
    {
     "name": "stdout",
     "output_type": "stream",
     "text": [
      "Iteration 0 done. Time: 10.017550230026245\n",
      "Iteration 1 done. Time: 10.14739727973938\n",
      "Epoch  0, Time: 24.16, Train Loss: 121.9536, Validation Loss: 111.1741\n",
      "Iteration 0 done. Time: 8.79884958267212\n",
      "Iteration 1 done. Time: 10.200888872146606\n",
      "Epoch  1, Time: 23.22, Train Loss: 37.7499, Validation Loss: 41.4179\n",
      "Iteration 0 done. Time: 8.745430707931519\n",
      "Iteration 1 done. Time: 10.878724813461304\n",
      "Epoch  2, Time: 23.71, Train Loss: 31.4742, Validation Loss: 29.8296\n"
     ]
    }
   ],
   "source": [
    "train(model, opt, 'trials', train_domains[:100], scheduler, \n",
    "      EPOCHS=3, ITERATION_DOMAINS=ITERATION_DOMAINS, VALIDATION_SIZE=VALIDATION_SIZE)"
   ]
  },
  {
   "cell_type": "code",
   "execution_count": 6,
   "metadata": {},
   "outputs": [
    {
     "name": "stdout",
     "output_type": "stream",
     "text": [
      "0.001\n"
     ]
    }
   ],
   "source": [
    "for param_group in opt.param_groups:\n",
    "        print(param_group['lr'])"
   ]
  },
  {
   "cell_type": "code",
   "execution_count": 9,
   "metadata": {},
   "outputs": [],
   "source": [
    "model = AlphaFold()"
   ]
  },
  {
   "cell_type": "code",
   "execution_count": 6,
   "metadata": {},
   "outputs": [],
   "source": [
    "model = Inception_aux()"
   ]
  },
  {
   "cell_type": "code",
   "execution_count": 10,
   "metadata": {},
   "outputs": [],
   "source": [
    "pytorch_total_params = sum(p.numel() for p in model.parameters())\n",
    "pytorch_total_params_trainable = sum(p.numel() for p in model.parameters() if p.requires_grad)"
   ]
  },
  {
   "cell_type": "code",
   "execution_count": 11,
   "metadata": {},
   "outputs": [
    {
     "data": {
      "text/plain": [
       "(10745464, 10745464)"
      ]
     },
     "execution_count": 11,
     "metadata": {},
     "output_type": "execute_result"
    }
   ],
   "source": [
    "pytorch_total_params, pytorch_total_params_trainable"
   ]
  },
  {
   "cell_type": "code",
   "execution_count": 12,
   "metadata": {},
   "outputs": [],
   "source": [
    "X = torch.load(f'../../data/our_input/tensors/{train_domains[1]}_X.pt')\n",
    "Y = torch.load(f'../../data/our_input/Y_tensors/{train_domains[1]}_Y.pt')\n",
    "\n",
    "i, o = make_batches(X, Y, random_state=3)"
   ]
  },
  {
   "cell_type": "code",
   "execution_count": 3,
   "metadata": {},
   "outputs": [],
   "source": [
    "from helper_functions import load_crops, evaluate\n",
    "import pickle"
   ]
  },
  {
   "cell_type": "code",
   "execution_count": 4,
   "metadata": {},
   "outputs": [],
   "source": [
    "with open('../../steps/domain_lengths.pkl', 'rb') as f:\n",
    "        lengths = pickle.load(f)"
   ]
  },
  {
   "cell_type": "code",
   "execution_count": 5,
   "metadata": {},
   "outputs": [],
   "source": [
    "train_lengths = [lengths[i] for i in train_domains]"
   ]
  },
  {
   "cell_type": "code",
   "execution_count": 7,
   "metadata": {},
   "outputs": [],
   "source": [
    "from helper_functions import ncrops"
   ]
  },
  {
   "cell_type": "code",
   "execution_count": 10,
   "metadata": {},
   "outputs": [],
   "source": [
    "c = ncrops(train_lengths)\n",
    "c2 = ncrops(train_lengths, random_state=2)"
   ]
  },
  {
   "cell_type": "code",
   "execution_count": 13,
   "metadata": {},
   "outputs": [
    {
     "data": {
      "text/plain": [
       "80966.5"
      ]
     },
     "execution_count": 13,
     "metadata": {},
     "output_type": "execute_result"
    }
   ],
   "source": [
    "0.5*(sum(c) + sum(c2))"
   ]
  },
  {
   "cell_type": "code",
   "execution_count": 14,
   "metadata": {},
   "outputs": [
    {
     "data": {
      "text/plain": [
       "9396"
      ]
     },
     "execution_count": 14,
     "metadata": {},
     "output_type": "execute_result"
    }
   ],
   "source": [
    "len(train_lengths)"
   ]
  },
  {
   "cell_type": "code",
   "execution_count": 18,
   "metadata": {},
   "outputs": [
    {
     "data": {
      "text/plain": [
       "True"
      ]
     },
     "execution_count": 18,
     "metadata": {},
     "output_type": "execute_result"
    }
   ],
   "source": [
    "'3ke7B00' in train_domains"
   ]
  },
  {
   "cell_type": "code",
   "execution_count": null,
   "metadata": {},
   "outputs": [],
   "source": []
  }
 ],
 "metadata": {
  "kernelspec": {
   "display_name": "Python 3",
   "language": "python",
   "name": "python3"
  },
  "language_info": {
   "codemirror_mode": {
    "name": "ipython",
    "version": 3
   },
   "file_extension": ".py",
   "mimetype": "text/x-python",
   "name": "python",
   "nbconvert_exporter": "python",
   "pygments_lexer": "ipython3",
   "version": "3.8.2"
  }
 },
 "nbformat": 4,
 "nbformat_minor": 4
}
